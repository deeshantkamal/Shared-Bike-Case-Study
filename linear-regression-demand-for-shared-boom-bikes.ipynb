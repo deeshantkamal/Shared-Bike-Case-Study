{
 "cells": [
  {
   "cell_type": "markdown",
   "metadata": {},
   "source": [
    "## Multiple Linear Regression Model \n",
    "\n",
    "## <font color=blue>Prediction of Demand for Shared Bikes"
   ]
  },
  {
   "cell_type": "markdown",
   "metadata": {},
   "source": [
    "### Problem Statement:\n",
    "\n",
    "A bike-sharing system is a service in which bikes are made available for shared use to individuals on a short term basis for a price or free. Many bike share systems allow people to borrow a bike from a \"dock\" which is usually computer-controlled wherein the user enters the payment information, and the system unlocks it. This bike can then be returned to another dock belonging to the same system.\n",
    "\n",
    "\n",
    "A US bike-sharing provider BoomBikes has recently suffered considerable dips in their revenues due to the ongoing Corona pandemic. The company is finding it very difficult to sustain in the current market scenario. So, it has decided to come up with a mindful business plan to be able to accelerate its revenue as soon as the ongoing lockdown comes to an end, and the economy restores to a healthy state. \n",
    "\n",
    "\n",
    "In such an attempt, BoomBikes aspires to understand the demand for shared bikes among the people after this ongoing quarantine situation ends across the nation due to Covid-19. They have planned this to prepare themselves to cater to the people's needs once the situation gets better all around and stand out from other service providers and make huge profits.\n",
    "\n",
    "\n",
    "They have contracted a consulting company to understand the factors on which the demand for these shared bikes depends. Specifically, they want to understand the factors affecting the demand for these shared bikes in the American market. The company wants to know:\n",
    "\n",
    "* **Which variables are significant in predicting the demand for shared bikes.**\n",
    "* **How well those variables describe the bike demands**\n",
    "\n",
    "Based on various meteorological surveys and people's styles, the service provider firm has gathered a large dataset on daily bike demands across the American market based on some factors. "
   ]
  },
  {
   "cell_type": "markdown",
   "metadata": {},
   "source": [
    "### Business Goal:\n",
    "You are required to model the demand for shared bikes with the available independent variables. It will be used by the management to understand how exactly the demands vary with different features. They can accordingly manipulate the business strategy to meet the demand levels and meet the customer's expectations. Further, the model will be a good way for management to understand the demand dynamics of a new market. "
   ]
  },
  {
   "cell_type": "code",
   "execution_count": 18,
   "metadata": {
    "collapsed": true
   },
   "outputs": [],
   "source": [
    "# Importing filterwarnings to ignore warning messages\n",
    "import warnings\n",
    "warnings.filterwarnings('ignore')"
   ]
  },
  {
   "cell_type": "code",
   "execution_count": 19,
   "metadata": {
    "collapsed": true
   },
   "outputs": [],
   "source": [
    "# Importing the necessary libraries\n",
    "import numpy as np\n",
    "import pandas as pd\n",
    "import matplotlib.pyplot as plt\n",
    "import seaborn as sns"
   ]
  },
  {
   "cell_type": "code",
   "execution_count": 20,
   "metadata": {
    "scrolled": true
   },
   "outputs": [
    {
     "data": {
      "text/html": [
       "<div>\n",
       "<style>\n",
       "    .dataframe thead tr:only-child th {\n",
       "        text-align: right;\n",
       "    }\n",
       "\n",
       "    .dataframe thead th {\n",
       "        text-align: left;\n",
       "    }\n",
       "\n",
       "    .dataframe tbody tr th {\n",
       "        vertical-align: top;\n",
       "    }\n",
       "</style>\n",
       "<table border=\"1\" class=\"dataframe\">\n",
       "  <thead>\n",
       "    <tr style=\"text-align: right;\">\n",
       "      <th></th>\n",
       "      <th>instant</th>\n",
       "      <th>dteday</th>\n",
       "      <th>season</th>\n",
       "      <th>yr</th>\n",
       "      <th>mnth</th>\n",
       "      <th>holiday</th>\n",
       "      <th>weekday</th>\n",
       "      <th>workingday</th>\n",
       "      <th>weathersit</th>\n",
       "      <th>temp</th>\n",
       "      <th>atemp</th>\n",
       "      <th>hum</th>\n",
       "      <th>windspeed</th>\n",
       "      <th>casual</th>\n",
       "      <th>registered</th>\n",
       "      <th>cnt</th>\n",
       "    </tr>\n",
       "  </thead>\n",
       "  <tbody>\n",
       "    <tr>\n",
       "      <th>0</th>\n",
       "      <td>1</td>\n",
       "      <td>01-01-2018</td>\n",
       "      <td>1</td>\n",
       "      <td>0</td>\n",
       "      <td>1</td>\n",
       "      <td>0</td>\n",
       "      <td>6</td>\n",
       "      <td>0</td>\n",
       "      <td>2</td>\n",
       "      <td>14.110847</td>\n",
       "      <td>18.18125</td>\n",
       "      <td>80.5833</td>\n",
       "      <td>10.749882</td>\n",
       "      <td>331</td>\n",
       "      <td>654</td>\n",
       "      <td>985</td>\n",
       "    </tr>\n",
       "    <tr>\n",
       "      <th>1</th>\n",
       "      <td>2</td>\n",
       "      <td>02-01-2018</td>\n",
       "      <td>1</td>\n",
       "      <td>0</td>\n",
       "      <td>1</td>\n",
       "      <td>0</td>\n",
       "      <td>0</td>\n",
       "      <td>0</td>\n",
       "      <td>2</td>\n",
       "      <td>14.902598</td>\n",
       "      <td>17.68695</td>\n",
       "      <td>69.6087</td>\n",
       "      <td>16.652113</td>\n",
       "      <td>131</td>\n",
       "      <td>670</td>\n",
       "      <td>801</td>\n",
       "    </tr>\n",
       "    <tr>\n",
       "      <th>2</th>\n",
       "      <td>3</td>\n",
       "      <td>03-01-2018</td>\n",
       "      <td>1</td>\n",
       "      <td>0</td>\n",
       "      <td>1</td>\n",
       "      <td>0</td>\n",
       "      <td>1</td>\n",
       "      <td>1</td>\n",
       "      <td>1</td>\n",
       "      <td>8.050924</td>\n",
       "      <td>9.47025</td>\n",
       "      <td>43.7273</td>\n",
       "      <td>16.636703</td>\n",
       "      <td>120</td>\n",
       "      <td>1229</td>\n",
       "      <td>1349</td>\n",
       "    </tr>\n",
       "    <tr>\n",
       "      <th>3</th>\n",
       "      <td>4</td>\n",
       "      <td>04-01-2018</td>\n",
       "      <td>1</td>\n",
       "      <td>0</td>\n",
       "      <td>1</td>\n",
       "      <td>0</td>\n",
       "      <td>2</td>\n",
       "      <td>1</td>\n",
       "      <td>1</td>\n",
       "      <td>8.200000</td>\n",
       "      <td>10.60610</td>\n",
       "      <td>59.0435</td>\n",
       "      <td>10.739832</td>\n",
       "      <td>108</td>\n",
       "      <td>1454</td>\n",
       "      <td>1562</td>\n",
       "    </tr>\n",
       "    <tr>\n",
       "      <th>4</th>\n",
       "      <td>5</td>\n",
       "      <td>05-01-2018</td>\n",
       "      <td>1</td>\n",
       "      <td>0</td>\n",
       "      <td>1</td>\n",
       "      <td>0</td>\n",
       "      <td>3</td>\n",
       "      <td>1</td>\n",
       "      <td>1</td>\n",
       "      <td>9.305237</td>\n",
       "      <td>11.46350</td>\n",
       "      <td>43.6957</td>\n",
       "      <td>12.522300</td>\n",
       "      <td>82</td>\n",
       "      <td>1518</td>\n",
       "      <td>1600</td>\n",
       "    </tr>\n",
       "  </tbody>\n",
       "</table>\n",
       "</div>"
      ],
      "text/plain": [
       "   instant      dteday  season  yr  mnth  holiday  weekday  workingday  \\\n",
       "0        1  01-01-2018       1   0     1        0        6           0   \n",
       "1        2  02-01-2018       1   0     1        0        0           0   \n",
       "2        3  03-01-2018       1   0     1        0        1           1   \n",
       "3        4  04-01-2018       1   0     1        0        2           1   \n",
       "4        5  05-01-2018       1   0     1        0        3           1   \n",
       "\n",
       "   weathersit       temp     atemp      hum  windspeed  casual  registered  \\\n",
       "0           2  14.110847  18.18125  80.5833  10.749882     331         654   \n",
       "1           2  14.902598  17.68695  69.6087  16.652113     131         670   \n",
       "2           1   8.050924   9.47025  43.7273  16.636703     120        1229   \n",
       "3           1   8.200000  10.60610  59.0435  10.739832     108        1454   \n",
       "4           1   9.305237  11.46350  43.6957  12.522300      82        1518   \n",
       "\n",
       "    cnt  \n",
       "0   985  \n",
       "1   801  \n",
       "2  1349  \n",
       "3  1562  \n",
       "4  1600  "
      ]
     },
     "execution_count": 20,
     "metadata": {},
     "output_type": "execute_result"
    }
   ],
   "source": [
    "# Reading the bikes rental  dataset into 'bikes' dataframe\n",
    "\n",
    "bikes=pd.read_csv('day.csv')\n",
    "bikes.head()"
   ]
  },
  {
   "cell_type": "code",
   "execution_count": null,
   "metadata": {
    "collapsed": true
   },
   "outputs": [],
   "source": []
  },
  {
   "cell_type": "code",
   "execution_count": 21,
   "metadata": {},
   "outputs": [
    {
     "data": {
      "text/plain": [
       "(730, 16)"
      ]
     },
     "execution_count": 21,
     "metadata": {},
     "output_type": "execute_result"
    }
   ],
   "source": [
    "# looking at the shape of the bikes dataset\n",
    "bikes.shape"
   ]
  },
  {
   "cell_type": "code",
   "execution_count": 22,
   "metadata": {},
   "outputs": [
    {
     "data": {
      "text/html": [
       "<div>\n",
       "<style>\n",
       "    .dataframe thead tr:only-child th {\n",
       "        text-align: right;\n",
       "    }\n",
       "\n",
       "    .dataframe thead th {\n",
       "        text-align: left;\n",
       "    }\n",
       "\n",
       "    .dataframe tbody tr th {\n",
       "        vertical-align: top;\n",
       "    }\n",
       "</style>\n",
       "<table border=\"1\" class=\"dataframe\">\n",
       "  <thead>\n",
       "    <tr style=\"text-align: right;\">\n",
       "      <th></th>\n",
       "      <th>instant</th>\n",
       "      <th>season</th>\n",
       "      <th>yr</th>\n",
       "      <th>mnth</th>\n",
       "      <th>holiday</th>\n",
       "      <th>weekday</th>\n",
       "      <th>workingday</th>\n",
       "      <th>weathersit</th>\n",
       "      <th>temp</th>\n",
       "      <th>atemp</th>\n",
       "      <th>hum</th>\n",
       "      <th>windspeed</th>\n",
       "      <th>casual</th>\n",
       "      <th>registered</th>\n",
       "      <th>cnt</th>\n",
       "    </tr>\n",
       "  </thead>\n",
       "  <tbody>\n",
       "    <tr>\n",
       "      <th>count</th>\n",
       "      <td>730.000000</td>\n",
       "      <td>730.000000</td>\n",
       "      <td>730.000000</td>\n",
       "      <td>730.000000</td>\n",
       "      <td>730.000000</td>\n",
       "      <td>730.000000</td>\n",
       "      <td>730.000000</td>\n",
       "      <td>730.000000</td>\n",
       "      <td>730.000000</td>\n",
       "      <td>730.000000</td>\n",
       "      <td>730.000000</td>\n",
       "      <td>730.000000</td>\n",
       "      <td>730.000000</td>\n",
       "      <td>730.000000</td>\n",
       "      <td>730.000000</td>\n",
       "    </tr>\n",
       "    <tr>\n",
       "      <th>mean</th>\n",
       "      <td>365.500000</td>\n",
       "      <td>2.498630</td>\n",
       "      <td>0.500000</td>\n",
       "      <td>6.526027</td>\n",
       "      <td>0.028767</td>\n",
       "      <td>2.997260</td>\n",
       "      <td>0.683562</td>\n",
       "      <td>1.394521</td>\n",
       "      <td>20.319259</td>\n",
       "      <td>23.726322</td>\n",
       "      <td>62.765175</td>\n",
       "      <td>12.763620</td>\n",
       "      <td>849.249315</td>\n",
       "      <td>3658.757534</td>\n",
       "      <td>4508.006849</td>\n",
       "    </tr>\n",
       "    <tr>\n",
       "      <th>std</th>\n",
       "      <td>210.877136</td>\n",
       "      <td>1.110184</td>\n",
       "      <td>0.500343</td>\n",
       "      <td>3.450215</td>\n",
       "      <td>0.167266</td>\n",
       "      <td>2.006161</td>\n",
       "      <td>0.465405</td>\n",
       "      <td>0.544807</td>\n",
       "      <td>7.506729</td>\n",
       "      <td>8.150308</td>\n",
       "      <td>14.237589</td>\n",
       "      <td>5.195841</td>\n",
       "      <td>686.479875</td>\n",
       "      <td>1559.758728</td>\n",
       "      <td>1936.011647</td>\n",
       "    </tr>\n",
       "    <tr>\n",
       "      <th>min</th>\n",
       "      <td>1.000000</td>\n",
       "      <td>1.000000</td>\n",
       "      <td>0.000000</td>\n",
       "      <td>1.000000</td>\n",
       "      <td>0.000000</td>\n",
       "      <td>0.000000</td>\n",
       "      <td>0.000000</td>\n",
       "      <td>1.000000</td>\n",
       "      <td>2.424346</td>\n",
       "      <td>3.953480</td>\n",
       "      <td>0.000000</td>\n",
       "      <td>1.500244</td>\n",
       "      <td>2.000000</td>\n",
       "      <td>20.000000</td>\n",
       "      <td>22.000000</td>\n",
       "    </tr>\n",
       "    <tr>\n",
       "      <th>25%</th>\n",
       "      <td>183.250000</td>\n",
       "      <td>2.000000</td>\n",
       "      <td>0.000000</td>\n",
       "      <td>4.000000</td>\n",
       "      <td>0.000000</td>\n",
       "      <td>1.000000</td>\n",
       "      <td>0.000000</td>\n",
       "      <td>1.000000</td>\n",
       "      <td>13.811885</td>\n",
       "      <td>16.889713</td>\n",
       "      <td>52.000000</td>\n",
       "      <td>9.041650</td>\n",
       "      <td>316.250000</td>\n",
       "      <td>2502.250000</td>\n",
       "      <td>3169.750000</td>\n",
       "    </tr>\n",
       "    <tr>\n",
       "      <th>50%</th>\n",
       "      <td>365.500000</td>\n",
       "      <td>3.000000</td>\n",
       "      <td>0.500000</td>\n",
       "      <td>7.000000</td>\n",
       "      <td>0.000000</td>\n",
       "      <td>3.000000</td>\n",
       "      <td>1.000000</td>\n",
       "      <td>1.000000</td>\n",
       "      <td>20.465826</td>\n",
       "      <td>24.368225</td>\n",
       "      <td>62.625000</td>\n",
       "      <td>12.125325</td>\n",
       "      <td>717.000000</td>\n",
       "      <td>3664.500000</td>\n",
       "      <td>4548.500000</td>\n",
       "    </tr>\n",
       "    <tr>\n",
       "      <th>75%</th>\n",
       "      <td>547.750000</td>\n",
       "      <td>3.000000</td>\n",
       "      <td>1.000000</td>\n",
       "      <td>10.000000</td>\n",
       "      <td>0.000000</td>\n",
       "      <td>5.000000</td>\n",
       "      <td>1.000000</td>\n",
       "      <td>2.000000</td>\n",
       "      <td>26.880615</td>\n",
       "      <td>30.445775</td>\n",
       "      <td>72.989575</td>\n",
       "      <td>15.625589</td>\n",
       "      <td>1096.500000</td>\n",
       "      <td>4783.250000</td>\n",
       "      <td>5966.000000</td>\n",
       "    </tr>\n",
       "    <tr>\n",
       "      <th>max</th>\n",
       "      <td>730.000000</td>\n",
       "      <td>4.000000</td>\n",
       "      <td>1.000000</td>\n",
       "      <td>12.000000</td>\n",
       "      <td>1.000000</td>\n",
       "      <td>6.000000</td>\n",
       "      <td>1.000000</td>\n",
       "      <td>3.000000</td>\n",
       "      <td>35.328347</td>\n",
       "      <td>42.044800</td>\n",
       "      <td>97.250000</td>\n",
       "      <td>34.000021</td>\n",
       "      <td>3410.000000</td>\n",
       "      <td>6946.000000</td>\n",
       "      <td>8714.000000</td>\n",
       "    </tr>\n",
       "  </tbody>\n",
       "</table>\n",
       "</div>"
      ],
      "text/plain": [
       "          instant      season          yr        mnth     holiday     weekday  \\\n",
       "count  730.000000  730.000000  730.000000  730.000000  730.000000  730.000000   \n",
       "mean   365.500000    2.498630    0.500000    6.526027    0.028767    2.997260   \n",
       "std    210.877136    1.110184    0.500343    3.450215    0.167266    2.006161   \n",
       "min      1.000000    1.000000    0.000000    1.000000    0.000000    0.000000   \n",
       "25%    183.250000    2.000000    0.000000    4.000000    0.000000    1.000000   \n",
       "50%    365.500000    3.000000    0.500000    7.000000    0.000000    3.000000   \n",
       "75%    547.750000    3.000000    1.000000   10.000000    0.000000    5.000000   \n",
       "max    730.000000    4.000000    1.000000   12.000000    1.000000    6.000000   \n",
       "\n",
       "       workingday  weathersit        temp       atemp         hum   windspeed  \\\n",
       "count  730.000000  730.000000  730.000000  730.000000  730.000000  730.000000   \n",
       "mean     0.683562    1.394521   20.319259   23.726322   62.765175   12.763620   \n",
       "std      0.465405    0.544807    7.506729    8.150308   14.237589    5.195841   \n",
       "min      0.000000    1.000000    2.424346    3.953480    0.000000    1.500244   \n",
       "25%      0.000000    1.000000   13.811885   16.889713   52.000000    9.041650   \n",
       "50%      1.000000    1.000000   20.465826   24.368225   62.625000   12.125325   \n",
       "75%      1.000000    2.000000   26.880615   30.445775   72.989575   15.625589   \n",
       "max      1.000000    3.000000   35.328347   42.044800   97.250000   34.000021   \n",
       "\n",
       "            casual   registered          cnt  \n",
       "count   730.000000   730.000000   730.000000  \n",
       "mean    849.249315  3658.757534  4508.006849  \n",
       "std     686.479875  1559.758728  1936.011647  \n",
       "min       2.000000    20.000000    22.000000  \n",
       "25%     316.250000  2502.250000  3169.750000  \n",
       "50%     717.000000  3664.500000  4548.500000  \n",
       "75%    1096.500000  4783.250000  5966.000000  \n",
       "max    3410.000000  6946.000000  8714.000000  "
      ]
     },
     "execution_count": 22,
     "metadata": {},
     "output_type": "execute_result"
    }
   ],
   "source": [
    "bikes.describe()"
   ]
  },
  {
   "cell_type": "code",
   "execution_count": 23,
   "metadata": {},
   "outputs": [
    {
     "name": "stdout",
     "output_type": "stream",
     "text": [
      "<class 'pandas.core.frame.DataFrame'>\n",
      "RangeIndex: 730 entries, 0 to 729\n",
      "Data columns (total 16 columns):\n",
      "instant       730 non-null int64\n",
      "dteday        730 non-null object\n",
      "season        730 non-null int64\n",
      "yr            730 non-null int64\n",
      "mnth          730 non-null int64\n",
      "holiday       730 non-null int64\n",
      "weekday       730 non-null int64\n",
      "workingday    730 non-null int64\n",
      "weathersit    730 non-null int64\n",
      "temp          730 non-null float64\n",
      "atemp         730 non-null float64\n",
      "hum           730 non-null float64\n",
      "windspeed     730 non-null float64\n",
      "casual        730 non-null int64\n",
      "registered    730 non-null int64\n",
      "cnt           730 non-null int64\n",
      "dtypes: float64(4), int64(11), object(1)\n",
      "memory usage: 91.3+ KB\n"
     ]
    }
   ],
   "source": [
    "#Finding out the datatype of the columns in the bikes dataset:\n",
    "bikes.info()"
   ]
  },
  {
   "cell_type": "markdown",
   "metadata": {},
   "source": [
    "We see there are no missing values in our bikes dataset."
   ]
  },
  {
   "cell_type": "markdown",
   "metadata": {},
   "source": [
    "#### In our bikes dataset , we have the following types of columns:\n",
    "* **Categorical columns: <font color=blue>season , month , weathersit , weekday</font>**\n",
    "* **Continuous/Numerical columns : <font color=blue>windspeed , hum , temp , atemp , count</font>**\n",
    "* **Binary/Dichotomous columns:<font color=blue> yr , holiday , workingday</font>**"
   ]
  },
  {
   "cell_type": "markdown",
   "metadata": {},
   "source": [
    "#### In our bikes dataset,we have some unnecessary columns like:<font color=blue> instant , dteday , casual , registered </font>, so we are going to drop these columns. "
   ]
  },
  {
   "cell_type": "code",
   "execution_count": 24,
   "metadata": {},
   "outputs": [],
   "source": [
    "# Dropping the columns : instant,dteday,casual,registered\n",
    "\n",
    "cols=[\"instant\",\"dteday\",\"casual\",\"registered\"]\n",
    "\n",
    "bikes=bikes.drop(cols,axis=1)"
   ]
  },
  {
   "cell_type": "markdown",
   "metadata": {},
   "source": [
    "#### Renaming columns :"
   ]
  },
  {
   "cell_type": "code",
   "execution_count": 25,
   "metadata": {
    "collapsed": true
   },
   "outputs": [],
   "source": [
    "# Renaming some columns for more clearity \n",
    "\n",
    "bikes.rename(columns={'hum':'humidity','cnt':'count','mnth':'month','yr':'year'},inplace=True)"
   ]
  },
  {
   "cell_type": "markdown",
   "metadata": {},
   "source": [
    "### Mapping the Categorical columns to their actual category names :"
   ]
  },
  {
   "cell_type": "markdown",
   "metadata": {},
   "source": [
    "#### 1 . Season column mapping as:<br>\n",
    "* 1: spring \n",
    "* 2: summer \n",
    "* 3: fall \n",
    "* 4: winter"
   ]
  },
  {
   "cell_type": "code",
   "execution_count": 26,
   "metadata": {
    "collapsed": true
   },
   "outputs": [],
   "source": [
    "# Mapping the categorical column : season into its categories\n",
    "\n",
    "season_cat={1:\"spring\",2:\"summer\",3:\"fall\",4:'winter'}\n",
    "\n",
    "bikes.season=[season_cat[item] for item in bikes.season]"
   ]
  },
  {
   "cell_type": "markdown",
   "metadata": {},
   "source": [
    "#### 2 . Weathersit column mapping as:<br>\n",
    "* 1: clear \n",
    "* 2: mist & cloudy \n",
    "* 3: light rain & snow \n",
    "* 4: heavy rain & snow"
   ]
  },
  {
   "cell_type": "code",
   "execution_count": 27,
   "metadata": {
    "collapsed": true
   },
   "outputs": [],
   "source": [
    "# Mapping the categorical column : weathersit into its categories\n",
    "\n",
    "weather_cat={1:\"clear\",2:\"mist & cloudy\",3:\"light rain & snow\",4:'heavy rain & snow'}\n",
    "\n",
    "bikes.weathersit=[weather_cat[item] for item in bikes.weathersit]"
   ]
  },
  {
   "cell_type": "markdown",
   "metadata": {},
   "source": [
    "#### 3 . Month column mapping as:<br>\n",
    "* 1: Jan , 2: Feb , 3: Mar , 4: Apr , 5: May , 6: Jun , 7: Jul , 8: Aug , 9: Sep , 10: Oct , 11: Nov , 12: Dec"
   ]
  },
  {
   "cell_type": "code",
   "execution_count": 28,
   "metadata": {
    "collapsed": true
   },
   "outputs": [],
   "source": [
    "# Mapping the categorical column : month into its categories\n",
    "\n",
    "month_cat={1: 'Jan' , 2: 'Feb' , 3: 'Mar' , 4: 'Apr' , 5: 'May' , 6: 'Jun' , 7: 'Jul' , 8: 'Aug' , 9: 'Sep' , 10: 'Oct' , 11: 'Nov' , 12: 'Dec'}\n",
    "\n",
    "bikes.month=[month_cat[item] for item in bikes.month]"
   ]
  },
  {
   "cell_type": "markdown",
   "metadata": {},
   "source": [
    "#### 4.Weekday column mapping as:\n",
    "* 0: Sunday\n",
    "* 1: Monday \n",
    "* 2: Tuesday \n",
    "* 3: Wednesday\n",
    "* 4: Thursday\n",
    "* 5: Friday\n",
    "* 6: Saturday"
   ]
  },
  {
   "cell_type": "code",
   "execution_count": 29,
   "metadata": {
    "collapsed": true
   },
   "outputs": [],
   "source": [
    "# Mapping the categorical column : weekday into its categories\n",
    "\n",
    "wkday_cat={0: 'Sunday',1: 'Monday',2: 'Tuesday',3: 'Wednesday',4: 'Thursday',5: 'Friday',6: 'Saturday'}\n",
    "\n",
    "bikes.weekday=[wkday_cat[item] for item in bikes.weekday]"
   ]
  },
  {
   "cell_type": "markdown",
   "metadata": {},
   "source": [
    "#### 5.Year column mapping as:\n",
    "* 0: 2018\n",
    "* 1: 2019 "
   ]
  },
  {
   "cell_type": "code",
   "execution_count": 30,
   "metadata": {
    "collapsed": true
   },
   "outputs": [],
   "source": [
    "# Mapping the categorical column : Year into its categories\n",
    "\n",
    "yr_cat={0: '2018',1: '2019'}\n",
    "\n",
    "bikes.year=[yr_cat[item] for item in bikes.year]"
   ]
  },
  {
   "cell_type": "markdown",
   "metadata": {},
   "source": [
    "## Exploratory Data Analysis :"
   ]
  },
  {
   "cell_type": "markdown",
   "metadata": {},
   "source": [
    "### Analysis of various variables w.r.t  'count' ie., target variable through Visualization:"
   ]
  },
  {
   "cell_type": "markdown",
   "metadata": {},
   "source": [
    "#### 1. Season :"
   ]
  },
  {
   "cell_type": "code",
   "execution_count": 31,
   "metadata": {},
   "outputs": [
    {
     "data": {
      "text/plain": [
       "<matplotlib.axes._subplots.AxesSubplot at 0x1ffbe50d7f0>"
      ]
     },
     "execution_count": 31,
     "metadata": {},
     "output_type": "execute_result"
    }
   ],
   "source": [
    "# Analysing the demand in various seasons\n",
    "sns.barplot(x='season',y='count',data=bikes)"
   ]
  },
  {
   "cell_type": "markdown",
   "metadata": {},
   "source": [
    "#### Observation: Bikes rented are more during the Fall season."
   ]
  },
  {
   "cell_type": "markdown",
   "metadata": {},
   "source": [
    "#### 2. Year :\n",
    "* 0: 2018\n",
    "* 1: 2019"
   ]
  },
  {
   "cell_type": "code",
   "execution_count": 32,
   "metadata": {},
   "outputs": [
    {
     "data": {
      "text/plain": [
       "<matplotlib.axes._subplots.AxesSubplot at 0x1ffbe536c18>"
      ]
     },
     "execution_count": 32,
     "metadata": {},
     "output_type": "execute_result"
    }
   ],
   "source": [
    "# Analysing the demand in year 2018 and 2019\n",
    "sns.set_style('whitegrid')\n",
    "plt.figure(figsize=(6,4))\n",
    "sns.barplot(x='year',y='count',data=bikes)"
   ]
  },
  {
   "cell_type": "markdown",
   "metadata": {},
   "source": [
    "#### Observation: Bikes rented are more in the year 2019 as compared to 2018."
   ]
  },
  {
   "cell_type": "markdown",
   "metadata": {},
   "source": [
    "#### 3. Month :"
   ]
  },
  {
   "cell_type": "code",
   "execution_count": 33,
   "metadata": {},
   "outputs": [
    {
     "data": {
      "text/plain": [
       "<matplotlib.axes._subplots.AxesSubplot at 0x1ffbe36d470>"
      ]
     },
     "execution_count": 33,
     "metadata": {},
     "output_type": "execute_result"
    }
   ],
   "source": [
    "# Analysing the demand in various months\n",
    "sns.set_style('whitegrid')\n",
    "plt.figure(figsize=(12,6))\n",
    "sns.barplot(x='month',y='count',data=bikes,hue='year',palette='ocean')"
   ]
  },
  {
   "cell_type": "markdown",
   "metadata": {},
   "source": [
    "#### Observation: Bikes rented are more in the month of Sep 2019."
   ]
  },
  {
   "cell_type": "markdown",
   "metadata": {},
   "source": [
    "#### 4. Weather :"
   ]
  },
  {
   "cell_type": "code",
   "execution_count": 34,
   "metadata": {},
   "outputs": [
    {
     "data": {
      "text/plain": [
       "<matplotlib.axes._subplots.AxesSubplot at 0x1ffbf939f98>"
      ]
     },
     "execution_count": 34,
     "metadata": {},
     "output_type": "execute_result"
    }
   ],
   "source": [
    "# Analysing the demand in various weathers\n",
    "sns.set_style('whitegrid')\n",
    "plt.figure(figsize=(9,4))\n",
    "sns.barplot(x='weathersit',y='count',data=bikes)"
   ]
  },
  {
   "cell_type": "markdown",
   "metadata": {},
   "source": [
    "#### Observation: Bikes rented are more in the Clear weather ."
   ]
  },
  {
   "cell_type": "markdown",
   "metadata": {},
   "source": [
    "#### 5. Weekday :"
   ]
  },
  {
   "cell_type": "code",
   "execution_count": 35,
   "metadata": {},
   "outputs": [
    {
     "data": {
      "text/plain": [
       "<matplotlib.axes._subplots.AxesSubplot at 0x1ffbfba9400>"
      ]
     },
     "execution_count": 35,
     "metadata": {},
     "output_type": "execute_result"
    }
   ],
   "source": [
    "# Analysing the demand in various weekdays\n",
    "sns.set_style('whitegrid')\n",
    "plt.figure(figsize=(9,4))\n",
    "sns.barplot(x='weekday',y='count',data=bikes)"
   ]
  },
  {
   "cell_type": "markdown",
   "metadata": {},
   "source": [
    "#### Observation: Bikes rented are more on Saturday and Friday ."
   ]
  },
  {
   "cell_type": "markdown",
   "metadata": {},
   "source": [
    "#### 6. Working day :  \n",
    "* 0 : holiday or weekend\n",
    "* 1 : neither holiday nor weekend ie., working day"
   ]
  },
  {
   "cell_type": "code",
   "execution_count": 36,
   "metadata": {},
   "outputs": [
    {
     "data": {
      "text/plain": [
       "<matplotlib.axes._subplots.AxesSubplot at 0x1ffbfba9400>"
      ]
     },
     "execution_count": 36,
     "metadata": {},
     "output_type": "execute_result"
    }
   ],
   "source": [
    "# Analysing the demand based on workingday or not a workingday\n",
    "sns.set_style('whitegrid')\n",
    "# plt.figure(figsize=(9,4))\n",
    "sns.barplot(x='workingday',y='count',data=bikes)"
   ]
  },
  {
   "cell_type": "markdown",
   "metadata": {},
   "source": [
    "#### Observation: Bikes rented are more on working days ."
   ]
  },
  {
   "cell_type": "markdown",
   "metadata": {},
   "source": [
    "### 7. Visualizing the continuous variables 'temp','atemp','humidity','windspeed' w.r.t 'count ' variable through a pairplot."
   ]
  },
  {
   "cell_type": "code",
   "execution_count": 37,
   "metadata": {},
   "outputs": [
    {
     "data": {
      "image/png": "[encoded data removed]",
      "text/plain": [
       "<matplotlib.figure.Figure at 0x1ffbe4fe518>"
      ]
     },
     "metadata": {},
     "output_type": "display_data"
    },
    {
     "data": {
      "image/png": "[encoded data removed]",
      "text/plain": [
       "<matplotlib.figure.Figure at 0x1ffbe5e09e8>"
      ]
     },
     "metadata": {},
     "output_type": "display_data"
    },
    {
     "data": {
      "image/png": "[encoded data removed]",
      "text/plain": [
       "<matplotlib.figure.Figure at 0x1ffbe62ea90>"
      ]
     },
     "metadata": {},
     "output_type": "display_data"
    },
    {
     "data": {
      "image/png": "[encoded data removed]",
      "text/plain": [
       "<matplotlib.figure.Figure at 0x1ffbe62edd8>"
      ]
     },
     "metadata": {},
     "output_type": "display_data"
    },
    {
     "data": {
      "image/png": "[encoded data removed]",
      "text/plain": [
       "<matplotlib.figure.Figure at 0x1ffbfbf50f0>"
      ]
     },
     "metadata": {},
     "output_type": "display_data"
    },
    {
     "data": {
      "image/png": "[encoded data removed]",
      "text/plain": [
       "<matplotlib.figure.Figure at 0x1ffbfcb49b0>"
      ]
     },
     "metadata": {},
     "output_type": "display_data"
    }
   ],
   "source": [
    "sns.pairplot(bikes, x_vars=['temp','atemp','humidity','windspeed'], y_vars='count',size=4, aspect=1 )\n",
    "plt.show()"
   ]
  },
  {
   "cell_type": "markdown",
   "metadata": {},
   "source": [
    "#### Observation: \n",
    "* **Bike rental counts show a `positive correlation` with `temp` and `atemp`** and therefore **bike rental counts increase at higher temperatures and vice-versa**\n",
    "\n",
    "* **Bike rental counts show a `negative correlation` with `humidity`** and therefore **bike rental counts are less at high humidity levels and vice-versa** \n",
    "\n",
    "* **Bike rental counts show a `negative correlation` with `windspeed`** and therefore **bike rental counts are less at high windspeed and vice-versa .**\n"
   ]
  },
  {
   "cell_type": "markdown",
   "metadata": {},
   "source": [
    "### Checking the Correlations among variables:"
   ]
  },
  {
   "cell_type": "code",
   "execution_count": 38,
   "metadata": {},
   "outputs": [
    {
     "data": {
      "text/plain": [
       "<matplotlib.axes._subplots.AxesSubplot at 0x1ffc0082da0>"
      ]
     },
     "execution_count": 38,
     "metadata": {},
     "output_type": "execute_result"
    }
   ],
   "source": [
    "plt.figure(figsize=(11,7.5))\n",
    "sns.heatmap(bikes.corr(),annot=True,cmap='YlGnBu')"
   ]
  },
  {
   "cell_type": "markdown",
   "metadata": {},
   "source": [
    "#### Observation : It is seen that the variables 'temp' and 'atemp'  have a high correlation value of 0.99 , ie., they are highly correlated to each other , therefore we need to drop one of them . "
   ]
  },
  {
   "cell_type": "code",
   "execution_count": 39,
   "metadata": {
    "collapsed": true
   },
   "outputs": [],
   "source": [
    "# Dropping the variable 'atemp' \n",
    "bikes=bikes.drop(\"atemp\",axis=1)"
   ]
  },
  {
   "cell_type": "markdown",
   "metadata": {},
   "source": [
    "## DATA PREPARATION :"
   ]
  },
  {
   "cell_type": "markdown",
   "metadata": {},
   "source": [
    "### Creating Dummy Variables for the Categorical variables :\n",
    "<font color=blue>month , season , weathersit , weekday</font>"
   ]
  },
  {
   "cell_type": "code",
   "execution_count": 40,
   "metadata": {
    "collapsed": true
   },
   "outputs": [],
   "source": [
    "# Creating the dummy variables for the variables month,season,weathersit,weekday and storing them \n",
    "# in new variable 'months',seasons','weather' and 'weekdays' respectively and \n",
    "# dropping the first column from these variables using 'drop_first = True'\n",
    "\n",
    "months= pd.get_dummies(bikes['month'],drop_first=True,prefix='month')\n",
    "\n",
    "seasons = pd.get_dummies(bikes['season'],drop_first=True,prefix='season')\n",
    "\n",
    "weather= pd.get_dummies(bikes['weathersit'],drop_first=True,prefix='weather')\n",
    "\n",
    "weekdays= pd.get_dummies(bikes['weekday'],drop_first=True,prefix='day')\n",
    "\n",
    "years= pd.get_dummies(bikes['year'],drop_first=True,prefix='year')"
   ]
  },
  {
   "cell_type": "code",
   "execution_count": 41,
   "metadata": {},
   "outputs": [
    {
     "data": {
      "text/html": [
       "<div>\n",
       "<style>\n",
       "    .dataframe thead tr:only-child th {\n",
       "        text-align: right;\n",
       "    }\n",
       "\n",
       "    .dataframe thead th {\n",
       "        text-align: left;\n",
       "    }\n",
       "\n",
       "    .dataframe tbody tr th {\n",
       "        vertical-align: top;\n",
       "    }\n",
       "</style>\n",
       "<table border=\"1\" class=\"dataframe\">\n",
       "  <thead>\n",
       "    <tr style=\"text-align: right;\">\n",
       "      <th></th>\n",
       "      <th>season</th>\n",
       "      <th>year</th>\n",
       "      <th>month</th>\n",
       "      <th>holiday</th>\n",
       "      <th>weekday</th>\n",
       "      <th>workingday</th>\n",
       "      <th>weathersit</th>\n",
       "      <th>temp</th>\n",
       "      <th>humidity</th>\n",
       "      <th>windspeed</th>\n",
       "      <th>...</th>\n",
       "      <th>season_winter</th>\n",
       "      <th>weather_light rain &amp; snow</th>\n",
       "      <th>weather_mist &amp; cloudy</th>\n",
       "      <th>day_Monday</th>\n",
       "      <th>day_Saturday</th>\n",
       "      <th>day_Sunday</th>\n",
       "      <th>day_Thursday</th>\n",
       "      <th>day_Tuesday</th>\n",
       "      <th>day_Wednesday</th>\n",
       "      <th>year_2019</th>\n",
       "    </tr>\n",
       "  </thead>\n",
       "  <tbody>\n",
       "    <tr>\n",
       "      <th>0</th>\n",
       "      <td>spring</td>\n",
       "      <td>2018</td>\n",
       "      <td>Jan</td>\n",
       "      <td>0</td>\n",
       "      <td>Saturday</td>\n",
       "      <td>0</td>\n",
       "      <td>mist &amp; cloudy</td>\n",
       "      <td>14.110847</td>\n",
       "      <td>80.5833</td>\n",
       "      <td>10.749882</td>\n",
       "      <td>...</td>\n",
       "      <td>0</td>\n",
       "      <td>0</td>\n",
       "      <td>1</td>\n",
       "      <td>0</td>\n",
       "      <td>1</td>\n",
       "      <td>0</td>\n",
       "      <td>0</td>\n",
       "      <td>0</td>\n",
       "      <td>0</td>\n",
       "      <td>0</td>\n",
       "    </tr>\n",
       "    <tr>\n",
       "      <th>1</th>\n",
       "      <td>spring</td>\n",
       "      <td>2018</td>\n",
       "      <td>Jan</td>\n",
       "      <td>0</td>\n",
       "      <td>Sunday</td>\n",
       "      <td>0</td>\n",
       "      <td>mist &amp; cloudy</td>\n",
       "      <td>14.902598</td>\n",
       "      <td>69.6087</td>\n",
       "      <td>16.652113</td>\n",
       "      <td>...</td>\n",
       "      <td>0</td>\n",
       "      <td>0</td>\n",
       "      <td>1</td>\n",
       "      <td>0</td>\n",
       "      <td>0</td>\n",
       "      <td>1</td>\n",
       "      <td>0</td>\n",
       "      <td>0</td>\n",
       "      <td>0</td>\n",
       "      <td>0</td>\n",
       "    </tr>\n",
       "    <tr>\n",
       "      <th>2</th>\n",
       "      <td>spring</td>\n",
       "      <td>2018</td>\n",
       "      <td>Jan</td>\n",
       "      <td>0</td>\n",
       "      <td>Monday</td>\n",
       "      <td>1</td>\n",
       "      <td>clear</td>\n",
       "      <td>8.050924</td>\n",
       "      <td>43.7273</td>\n",
       "      <td>16.636703</td>\n",
       "      <td>...</td>\n",
       "      <td>0</td>\n",
       "      <td>0</td>\n",
       "      <td>0</td>\n",
       "      <td>1</td>\n",
       "      <td>0</td>\n",
       "      <td>0</td>\n",
       "      <td>0</td>\n",
       "      <td>0</td>\n",
       "      <td>0</td>\n",
       "      <td>0</td>\n",
       "    </tr>\n",
       "    <tr>\n",
       "      <th>3</th>\n",
       "      <td>spring</td>\n",
       "      <td>2018</td>\n",
       "      <td>Jan</td>\n",
       "      <td>0</td>\n",
       "      <td>Tuesday</td>\n",
       "      <td>1</td>\n",
       "      <td>clear</td>\n",
       "      <td>8.200000</td>\n",
       "      <td>59.0435</td>\n",
       "      <td>10.739832</td>\n",
       "      <td>...</td>\n",
       "      <td>0</td>\n",
       "      <td>0</td>\n",
       "      <td>0</td>\n",
       "      <td>0</td>\n",
       "      <td>0</td>\n",
       "      <td>0</td>\n",
       "      <td>0</td>\n",
       "      <td>1</td>\n",
       "      <td>0</td>\n",
       "      <td>0</td>\n",
       "    </tr>\n",
       "    <tr>\n",
       "      <th>4</th>\n",
       "      <td>spring</td>\n",
       "      <td>2018</td>\n",
       "      <td>Jan</td>\n",
       "      <td>0</td>\n",
       "      <td>Wednesday</td>\n",
       "      <td>1</td>\n",
       "      <td>clear</td>\n",
       "      <td>9.305237</td>\n",
       "      <td>43.6957</td>\n",
       "      <td>12.522300</td>\n",
       "      <td>...</td>\n",
       "      <td>0</td>\n",
       "      <td>0</td>\n",
       "      <td>0</td>\n",
       "      <td>0</td>\n",
       "      <td>0</td>\n",
       "      <td>0</td>\n",
       "      <td>0</td>\n",
       "      <td>0</td>\n",
       "      <td>1</td>\n",
       "      <td>0</td>\n",
       "    </tr>\n",
       "  </tbody>\n",
       "</table>\n",
       "<p>5 rows × 34 columns</p>\n",
       "</div>"
      ],
      "text/plain": [
       "   season  year month  holiday    weekday  workingday     weathersit  \\\n",
       "0  spring  2018   Jan        0   Saturday           0  mist & cloudy   \n",
       "1  spring  2018   Jan        0     Sunday           0  mist & cloudy   \n",
       "2  spring  2018   Jan        0     Monday           1          clear   \n",
       "3  spring  2018   Jan        0    Tuesday           1          clear   \n",
       "4  spring  2018   Jan        0  Wednesday           1          clear   \n",
       "\n",
       "        temp  humidity  windspeed    ...      season_winter  \\\n",
       "0  14.110847   80.5833  10.749882    ...                  0   \n",
       "1  14.902598   69.6087  16.652113    ...                  0   \n",
       "2   8.050924   43.7273  16.636703    ...                  0   \n",
       "3   8.200000   59.0435  10.739832    ...                  0   \n",
       "4   9.305237   43.6957  12.522300    ...                  0   \n",
       "\n",
       "   weather_light rain & snow  weather_mist & cloudy  day_Monday  day_Saturday  \\\n",
       "0                          0                      1           0             1   \n",
       "1                          0                      1           0             0   \n",
       "2                          0                      0           1             0   \n",
       "3                          0                      0           0             0   \n",
       "4                          0                      0           0             0   \n",
       "\n",
       "   day_Sunday  day_Thursday  day_Tuesday  day_Wednesday  year_2019  \n",
       "0           0             0            0              0          0  \n",
       "1           1             0            0              0          0  \n",
       "2           0             0            0              0          0  \n",
       "3           0             0            1              0          0  \n",
       "4           0             0            0              1          0  \n",
       "\n",
       "[5 rows x 34 columns]"
      ]
     },
     "execution_count": 41,
     "metadata": {},
     "output_type": "execute_result"
    }
   ],
   "source": [
    "# Add the above created dummy variables to the original bikes dataframe\n",
    "bikes = pd.concat([bikes,months,seasons,weather,weekdays,years], axis = 1)\n",
    "\n",
    "# Looking at the top rows of our dataframe.\n",
    "bikes.head()"
   ]
  },
  {
   "cell_type": "code",
   "execution_count": 42,
   "metadata": {
    "collapsed": true
   },
   "outputs": [],
   "source": [
    "# As we have created dummy variables for the categorical variables , now we will drop those categorical variables .\n",
    "\n",
    "bikes.drop(['season','weathersit','weekday','month','year'],axis=1,inplace=True)"
   ]
  },
  {
   "cell_type": "code",
   "execution_count": 43,
   "metadata": {},
   "outputs": [
    {
     "data": {
      "text/plain": [
       "(730, 29)"
      ]
     },
     "execution_count": 43,
     "metadata": {},
     "output_type": "execute_result"
    }
   ],
   "source": [
    "# Looking at the shape of dataframe after dropping the above variables\n",
    "bikes.shape"
   ]
  },
  {
   "cell_type": "markdown",
   "metadata": {},
   "source": [
    "### Splitting the Data into Training and Testing Sets"
   ]
  },
  {
   "cell_type": "code",
   "execution_count": 44,
   "metadata": {
    "collapsed": true
   },
   "outputs": [],
   "source": [
    "from sklearn.model_selection import train_test_split\n",
    "\n",
    "bikes_train, bikes_test = train_test_split(bikes, train_size = 0.7, test_size = 0.3, random_state = 100)"
   ]
  },
  {
   "cell_type": "code",
   "execution_count": 45,
   "metadata": {},
   "outputs": [
    {
     "data": {
      "text/plain": [
       "(510, 29)"
      ]
     },
     "execution_count": 45,
     "metadata": {},
     "output_type": "execute_result"
    }
   ],
   "source": [
    "#Looking at the shape of the train dataset.\n",
    "bikes_train.shape"
   ]
  },
  {
   "cell_type": "code",
   "execution_count": 46,
   "metadata": {},
   "outputs": [
    {
     "data": {
      "text/plain": [
       "(219, 29)"
      ]
     },
     "execution_count": 46,
     "metadata": {},
     "output_type": "execute_result"
    }
   ],
   "source": [
    "#Looking at the shape of the test dataset.\n",
    "bikes_test.shape"
   ]
  },
  {
   "cell_type": "markdown",
   "metadata": {},
   "source": [
    "### Scaling the Features \n",
    "\n",
    "For Scaling the features in our bikes dataset , we will use `MinMax scaling`."
   ]
  },
  {
   "cell_type": "code",
   "execution_count": 47,
   "metadata": {
    "collapsed": true
   },
   "outputs": [],
   "source": [
    "from sklearn.preprocessing import MinMaxScaler\n",
    "scaler = MinMaxScaler()"
   ]
  },
  {
   "cell_type": "code",
   "execution_count": 48,
   "metadata": {},
   "outputs": [
    {
     "data": {
      "text/html": [
       "<div>\n",
       "<style>\n",
       "    .dataframe thead tr:only-child th {\n",
       "        text-align: right;\n",
       "    }\n",
       "\n",
       "    .dataframe thead th {\n",
       "        text-align: left;\n",
       "    }\n",
       "\n",
       "    .dataframe tbody tr th {\n",
       "        vertical-align: top;\n",
       "    }\n",
       "</style>\n",
       "<table border=\"1\" class=\"dataframe\">\n",
       "  <thead>\n",
       "    <tr style=\"text-align: right;\">\n",
       "      <th></th>\n",
       "      <th>holiday</th>\n",
       "      <th>workingday</th>\n",
       "      <th>temp</th>\n",
       "      <th>humidity</th>\n",
       "      <th>windspeed</th>\n",
       "      <th>count</th>\n",
       "      <th>month_Aug</th>\n",
       "      <th>month_Dec</th>\n",
       "      <th>month_Feb</th>\n",
       "      <th>month_Jan</th>\n",
       "      <th>...</th>\n",
       "      <th>season_winter</th>\n",
       "      <th>weather_light rain &amp; snow</th>\n",
       "      <th>weather_mist &amp; cloudy</th>\n",
       "      <th>day_Monday</th>\n",
       "      <th>day_Saturday</th>\n",
       "      <th>day_Sunday</th>\n",
       "      <th>day_Thursday</th>\n",
       "      <th>day_Tuesday</th>\n",
       "      <th>day_Wednesday</th>\n",
       "      <th>year_2019</th>\n",
       "    </tr>\n",
       "  </thead>\n",
       "  <tbody>\n",
       "    <tr>\n",
       "      <th>653</th>\n",
       "      <td>0</td>\n",
       "      <td>1</td>\n",
       "      <td>0.509887</td>\n",
       "      <td>0.575354</td>\n",
       "      <td>0.300794</td>\n",
       "      <td>0.864243</td>\n",
       "      <td>0</td>\n",
       "      <td>0</td>\n",
       "      <td>0</td>\n",
       "      <td>0</td>\n",
       "      <td>...</td>\n",
       "      <td>1</td>\n",
       "      <td>0</td>\n",
       "      <td>0</td>\n",
       "      <td>0</td>\n",
       "      <td>0</td>\n",
       "      <td>0</td>\n",
       "      <td>0</td>\n",
       "      <td>1</td>\n",
       "      <td>0</td>\n",
       "      <td>1</td>\n",
       "    </tr>\n",
       "    <tr>\n",
       "      <th>576</th>\n",
       "      <td>0</td>\n",
       "      <td>1</td>\n",
       "      <td>0.815169</td>\n",
       "      <td>0.725633</td>\n",
       "      <td>0.264686</td>\n",
       "      <td>0.827658</td>\n",
       "      <td>0</td>\n",
       "      <td>0</td>\n",
       "      <td>0</td>\n",
       "      <td>0</td>\n",
       "      <td>...</td>\n",
       "      <td>0</td>\n",
       "      <td>0</td>\n",
       "      <td>0</td>\n",
       "      <td>0</td>\n",
       "      <td>0</td>\n",
       "      <td>0</td>\n",
       "      <td>0</td>\n",
       "      <td>1</td>\n",
       "      <td>0</td>\n",
       "      <td>1</td>\n",
       "    </tr>\n",
       "    <tr>\n",
       "      <th>426</th>\n",
       "      <td>0</td>\n",
       "      <td>0</td>\n",
       "      <td>0.442393</td>\n",
       "      <td>0.640189</td>\n",
       "      <td>0.255342</td>\n",
       "      <td>0.465255</td>\n",
       "      <td>0</td>\n",
       "      <td>0</td>\n",
       "      <td>0</td>\n",
       "      <td>0</td>\n",
       "      <td>...</td>\n",
       "      <td>0</td>\n",
       "      <td>0</td>\n",
       "      <td>1</td>\n",
       "      <td>0</td>\n",
       "      <td>1</td>\n",
       "      <td>0</td>\n",
       "      <td>0</td>\n",
       "      <td>0</td>\n",
       "      <td>0</td>\n",
       "      <td>1</td>\n",
       "    </tr>\n",
       "    <tr>\n",
       "      <th>728</th>\n",
       "      <td>0</td>\n",
       "      <td>0</td>\n",
       "      <td>0.245101</td>\n",
       "      <td>0.498067</td>\n",
       "      <td>0.663106</td>\n",
       "      <td>0.204096</td>\n",
       "      <td>0</td>\n",
       "      <td>1</td>\n",
       "      <td>0</td>\n",
       "      <td>0</td>\n",
       "      <td>...</td>\n",
       "      <td>0</td>\n",
       "      <td>0</td>\n",
       "      <td>0</td>\n",
       "      <td>0</td>\n",
       "      <td>0</td>\n",
       "      <td>1</td>\n",
       "      <td>0</td>\n",
       "      <td>0</td>\n",
       "      <td>0</td>\n",
       "      <td>1</td>\n",
       "    </tr>\n",
       "    <tr>\n",
       "      <th>482</th>\n",
       "      <td>0</td>\n",
       "      <td>0</td>\n",
       "      <td>0.395666</td>\n",
       "      <td>0.504508</td>\n",
       "      <td>0.188475</td>\n",
       "      <td>0.482973</td>\n",
       "      <td>0</td>\n",
       "      <td>0</td>\n",
       "      <td>0</td>\n",
       "      <td>0</td>\n",
       "      <td>...</td>\n",
       "      <td>0</td>\n",
       "      <td>0</td>\n",
       "      <td>1</td>\n",
       "      <td>0</td>\n",
       "      <td>1</td>\n",
       "      <td>0</td>\n",
       "      <td>0</td>\n",
       "      <td>0</td>\n",
       "      <td>0</td>\n",
       "      <td>1</td>\n",
       "    </tr>\n",
       "  </tbody>\n",
       "</table>\n",
       "<p>5 rows × 29 columns</p>\n",
       "</div>"
      ],
      "text/plain": [
       "     holiday  workingday      temp  humidity  windspeed     count  month_Aug  \\\n",
       "653        0           1  0.509887  0.575354   0.300794  0.864243          0   \n",
       "576        0           1  0.815169  0.725633   0.264686  0.827658          0   \n",
       "426        0           0  0.442393  0.640189   0.255342  0.465255          0   \n",
       "728        0           0  0.245101  0.498067   0.663106  0.204096          0   \n",
       "482        0           0  0.395666  0.504508   0.188475  0.482973          0   \n",
       "\n",
       "     month_Dec  month_Feb  month_Jan    ...      season_winter  \\\n",
       "653          0          0          0    ...                  1   \n",
       "576          0          0          0    ...                  0   \n",
       "426          0          0          0    ...                  0   \n",
       "728          1          0          0    ...                  0   \n",
       "482          0          0          0    ...                  0   \n",
       "\n",
       "     weather_light rain & snow  weather_mist & cloudy  day_Monday  \\\n",
       "653                          0                      0           0   \n",
       "576                          0                      0           0   \n",
       "426                          0                      1           0   \n",
       "728                          0                      0           0   \n",
       "482                          0                      1           0   \n",
       "\n",
       "     day_Saturday  day_Sunday  day_Thursday  day_Tuesday  day_Wednesday  \\\n",
       "653             0           0             0            1              0   \n",
       "576             0           0             0            1              0   \n",
       "426             1           0             0            0              0   \n",
       "728             0           1             0            0              0   \n",
       "482             1           0             0            0              0   \n",
       "\n",
       "     year_2019  \n",
       "653          1  \n",
       "576          1  \n",
       "426          1  \n",
       "728          1  \n",
       "482          1  \n",
       "\n",
       "[5 rows x 29 columns]"
      ]
     },
     "execution_count": 48,
     "metadata": {},
     "output_type": "execute_result"
    }
   ],
   "source": [
    "# Applying Scaling on the continuous columns : 'windspeed' , 'temp' , 'humidity' , 'count'\n",
    "vars = ['windspeed' , 'temp' , 'humidity','count']\n",
    "\n",
    "bikes_train[vars] = scaler.fit_transform(bikes_train[vars])\n",
    "\n",
    "bikes_train.head()"
   ]
  },
  {
   "cell_type": "markdown",
   "metadata": {},
   "source": [
    "### Dividing into X and Y sets for the model building :"
   ]
  },
  {
   "cell_type": "code",
   "execution_count": 49,
   "metadata": {
    "collapsed": true
   },
   "outputs": [],
   "source": [
    "y_train = bikes_train.pop('count')\n",
    "X_train = bikes_train"
   ]
  },
  {
   "cell_type": "markdown",
   "metadata": {},
   "source": [
    "## Data Modelling and Evaluation\n",
    "\n",
    "#### We will be using the `Mixed Approach` for model building ie., firstly we will select 15 variables by using the `Automated Approach of RFE` and then using `Manual Approach for removing variables one by one based on the Pvalues and VIF values.` \n",
    "\n",
    "We will be using the **LinearRegression function from SciKit Learn** for its compatibility with RFE (Recursive Feature Elimination which is a utility from sklearn)"
   ]
  },
  {
   "cell_type": "markdown",
   "metadata": {},
   "source": [
    "### RFE\n",
    "`Recursive feature elimination`"
   ]
  },
  {
   "cell_type": "code",
   "execution_count": 50,
   "metadata": {
    "collapsed": true
   },
   "outputs": [],
   "source": [
    "# Importing RFE and LinearRegression\n",
    "from sklearn.feature_selection import RFE\n",
    "from sklearn.linear_model import LinearRegression"
   ]
  },
  {
   "cell_type": "code",
   "execution_count": 51,
   "metadata": {
    "collapsed": true
   },
   "outputs": [],
   "source": [
    "# Running RFE with selecting 15 variables \n",
    "lm = LinearRegression()\n",
    "lm.fit(X_train, y_train)\n",
    "\n",
    "np.random.seed(0)\n",
    "rfe = RFE(lm, 15)             # running RFE,15 is the number of variables we want RFE to select\n",
    "rfe = rfe.fit(X_train, y_train)"
   ]
  },
  {
   "cell_type": "code",
   "execution_count": 52,
   "metadata": {},
   "outputs": [
    {
     "data": {
      "text/plain": [
       "[('holiday', True, 1),\n",
       " ('workingday', True, 1),\n",
       " ('temp', True, 1),\n",
       " ('humidity', True, 1),\n",
       " ('windspeed', True, 1),\n",
       " ('month_Aug', False, 9),\n",
       " ('month_Dec', False, 4),\n",
       " ('month_Feb', False, 5),\n",
       " ('month_Jan', False, 2),\n",
       " ('month_Jul', True, 1),\n",
       " ('month_Jun', False, 12),\n",
       " ('month_Mar', False, 14),\n",
       " ('month_May', False, 6),\n",
       " ('month_Nov', False, 3),\n",
       " ('month_Oct', False, 10),\n",
       " ('month_Sep', True, 1),\n",
       " ('season_spring', True, 1),\n",
       " ('season_summer', True, 1),\n",
       " ('season_winter', True, 1),\n",
       " ('weather_light rain & snow', True, 1),\n",
       " ('weather_mist & cloudy', True, 1),\n",
       " ('day_Monday', False, 7),\n",
       " ('day_Saturday', True, 1),\n",
       " ('day_Sunday', True, 1),\n",
       " ('day_Thursday', False, 11),\n",
       " ('day_Tuesday', False, 8),\n",
       " ('day_Wednesday', False, 13),\n",
       " ('year_2019', True, 1)]"
      ]
     },
     "execution_count": 52,
     "metadata": {},
     "output_type": "execute_result"
    }
   ],
   "source": [
    "list(zip(X_train.columns,rfe.support_,rfe.ranking_))  \n",
    "\n",
    "# rfe_support_ : tells whether RFE selected the variable or not\n",
    "# rfe.ranking_ : tells the next best variable to be selected and ranks accordingly , The numbers \n",
    "#                 beside the variables indicate the importance of that variable."
   ]
  },
  {
   "cell_type": "code",
   "execution_count": 53,
   "metadata": {},
   "outputs": [
    {
     "data": {
      "text/plain": [
       "Index(['holiday', 'workingday', 'temp', 'humidity', 'windspeed', 'month_Jul',\n",
       "       'month_Sep', 'season_spring', 'season_summer', 'season_winter',\n",
       "       'weather_light rain & snow', 'weather_mist & cloudy', 'day_Saturday',\n",
       "       'day_Sunday', 'year_2019'],\n",
       "      dtype='object')"
      ]
     },
     "execution_count": 53,
     "metadata": {},
     "output_type": "execute_result"
    }
   ],
   "source": [
    "# Looking at the cols that RFE selected\n",
    "col = X_train.columns[rfe.support_]\n",
    "col"
   ]
  },
  {
   "cell_type": "markdown",
   "metadata": {},
   "source": [
    "### Building model using statsmodel, for the detailed statistics"
   ]
  },
  {
   "cell_type": "code",
   "execution_count": 54,
   "metadata": {
    "collapsed": true
   },
   "outputs": [],
   "source": [
    "# Creating X_train_rfe dataframe with RFE selected variables\n",
    "X_train_rfe = X_train[col]"
   ]
  },
  {
   "cell_type": "code",
   "execution_count": 55,
   "metadata": {
    "collapsed": true
   },
   "outputs": [],
   "source": [
    "# Adding a constant variable \n",
    "import statsmodels.api as sm  \n",
    "X_train_rfe = sm.add_constant(X_train_rfe)"
   ]
  },
  {
   "cell_type": "code",
   "execution_count": 56,
   "metadata": {
    "collapsed": true
   },
   "outputs": [],
   "source": [
    "# Running the linear model\n",
    "lm = sm.OLS(y_train,X_train_rfe).fit()   "
   ]
  },
  {
   "cell_type": "markdown",
   "metadata": {},
   "source": [
    "### Model - 1"
   ]
  },
  {
   "cell_type": "code",
   "execution_count": 57,
   "metadata": {},
   "outputs": [
    {
     "data": {
      "text/html": [
       "<table class=\"simpletable\">\n",
       "<caption>OLS Regression Results</caption>\n",
       "<tr>\n",
       "  <th>Dep. Variable:</th>          <td>count</td>      <th>  R-squared:         </th> <td>   0.847</td> \n",
       "</tr>\n",
       "<tr>\n",
       "  <th>Model:</th>                   <td>OLS</td>       <th>  Adj. R-squared:    </th> <td>   0.843</td> \n",
       "</tr>\n",
       "<tr>\n",
       "  <th>Method:</th>             <td>Least Squares</td>  <th>  F-statistic:       </th> <td>   196.3</td> \n",
       "</tr>\n",
       "<tr>\n",
       "  <th>Date:</th>             <td>Sun, 07 Mar 2021</td> <th>  Prob (F-statistic):</th> <td>1.13e-191</td>\n",
       "</tr>\n",
       "<tr>\n",
       "  <th>Time:</th>                 <td>16:37:45</td>     <th>  Log-Likelihood:    </th> <td>  517.87</td> \n",
       "</tr>\n",
       "<tr>\n",
       "  <th>No. Observations:</th>      <td>   510</td>      <th>  AIC:               </th> <td>  -1006.</td> \n",
       "</tr>\n",
       "<tr>\n",
       "  <th>Df Residuals:</th>          <td>   495</td>      <th>  BIC:               </th> <td>  -942.2</td> \n",
       "</tr>\n",
       "<tr>\n",
       "  <th>Df Model:</th>              <td>    14</td>      <th>                     </th>     <td> </td>    \n",
       "</tr>\n",
       "<tr>\n",
       "  <th>Covariance Type:</th>      <td>nonrobust</td>    <th>                     </th>     <td> </td>    \n",
       "</tr>\n",
       "</table>\n",
       "<table class=\"simpletable\">\n",
       "<tr>\n",
       "              <td></td>                 <th>coef</th>     <th>std err</th>      <th>t</th>      <th>P>|t|</th>  <th>[0.025</th>    <th>0.975]</th>  \n",
       "</tr>\n",
       "<tr>\n",
       "  <th>const</th>                     <td>    0.1989</td> <td>    0.028</td> <td>    7.181</td> <td> 0.000</td> <td>    0.144</td> <td>    0.253</td>\n",
       "</tr>\n",
       "<tr>\n",
       "  <th>holiday</th>                   <td>   -0.0190</td> <td>    0.021</td> <td>   -0.892</td> <td> 0.373</td> <td>   -0.061</td> <td>    0.023</td>\n",
       "</tr>\n",
       "<tr>\n",
       "  <th>workingday</th>                <td>    0.0837</td> <td>    0.010</td> <td>    8.672</td> <td> 0.000</td> <td>    0.065</td> <td>    0.103</td>\n",
       "</tr>\n",
       "<tr>\n",
       "  <th>temp</th>                      <td>    0.5278</td> <td>    0.033</td> <td>   15.897</td> <td> 0.000</td> <td>    0.463</td> <td>    0.593</td>\n",
       "</tr>\n",
       "<tr>\n",
       "  <th>humidity</th>                  <td>   -0.1595</td> <td>    0.037</td> <td>   -4.268</td> <td> 0.000</td> <td>   -0.233</td> <td>   -0.086</td>\n",
       "</tr>\n",
       "<tr>\n",
       "  <th>windspeed</th>                 <td>   -0.1806</td> <td>    0.025</td> <td>   -7.110</td> <td> 0.000</td> <td>   -0.231</td> <td>   -0.131</td>\n",
       "</tr>\n",
       "<tr>\n",
       "  <th>month_Jul</th>                 <td>   -0.0549</td> <td>    0.018</td> <td>   -3.035</td> <td> 0.003</td> <td>   -0.090</td> <td>   -0.019</td>\n",
       "</tr>\n",
       "<tr>\n",
       "  <th>month_Sep</th>                 <td>    0.0818</td> <td>    0.016</td> <td>    4.956</td> <td> 0.000</td> <td>    0.049</td> <td>    0.114</td>\n",
       "</tr>\n",
       "<tr>\n",
       "  <th>season_spring</th>             <td>   -0.0554</td> <td>    0.021</td> <td>   -2.694</td> <td> 0.007</td> <td>   -0.096</td> <td>   -0.015</td>\n",
       "</tr>\n",
       "<tr>\n",
       "  <th>season_summer</th>             <td>    0.0526</td> <td>    0.015</td> <td>    3.553</td> <td> 0.000</td> <td>    0.024</td> <td>    0.082</td>\n",
       "</tr>\n",
       "<tr>\n",
       "  <th>season_winter</th>             <td>    0.1003</td> <td>    0.017</td> <td>    5.890</td> <td> 0.000</td> <td>    0.067</td> <td>    0.134</td>\n",
       "</tr>\n",
       "<tr>\n",
       "  <th>weather_light rain & snow</th> <td>   -0.2463</td> <td>    0.026</td> <td>   -9.449</td> <td> 0.000</td> <td>   -0.298</td> <td>   -0.195</td>\n",
       "</tr>\n",
       "<tr>\n",
       "  <th>weather_mist & cloudy</th>     <td>   -0.0578</td> <td>    0.010</td> <td>   -5.559</td> <td> 0.000</td> <td>   -0.078</td> <td>   -0.037</td>\n",
       "</tr>\n",
       "<tr>\n",
       "  <th>day_Saturday</th>              <td>    0.0937</td> <td>    0.012</td> <td>    8.045</td> <td> 0.000</td> <td>    0.071</td> <td>    0.117</td>\n",
       "</tr>\n",
       "<tr>\n",
       "  <th>day_Sunday</th>                <td>    0.0405</td> <td>    0.012</td> <td>    3.304</td> <td> 0.001</td> <td>    0.016</td> <td>    0.065</td>\n",
       "</tr>\n",
       "<tr>\n",
       "  <th>year_2019</th>                 <td>    0.2297</td> <td>    0.008</td> <td>   28.660</td> <td> 0.000</td> <td>    0.214</td> <td>    0.245</td>\n",
       "</tr>\n",
       "</table>\n",
       "<table class=\"simpletable\">\n",
       "<tr>\n",
       "  <th>Omnibus:</th>       <td>64.879</td> <th>  Durbin-Watson:     </th> <td>   2.065</td>\n",
       "</tr>\n",
       "<tr>\n",
       "  <th>Prob(Omnibus):</th> <td> 0.000</td> <th>  Jarque-Bera (JB):  </th> <td> 158.454</td>\n",
       "</tr>\n",
       "<tr>\n",
       "  <th>Skew:</th>          <td>-0.661</td> <th>  Prob(JB):          </th> <td>3.91e-35</td>\n",
       "</tr>\n",
       "<tr>\n",
       "  <th>Kurtosis:</th>      <td> 5.390</td> <th>  Cond. No.          </th> <td>1.18e+16</td>\n",
       "</tr>\n",
       "</table>"
      ],
      "text/plain": [
       "<class 'statsmodels.iolib.summary.Summary'>\n",
       "\"\"\"\n",
       "                            OLS Regression Results                            \n",
       "==============================================================================\n",
       "Dep. Variable:                  count   R-squared:                       0.847\n",
       "Model:                            OLS   Adj. R-squared:                  0.843\n",
       "Method:                 Least Squares   F-statistic:                     196.3\n",
       "Date:                Sun, 07 Mar 2021   Prob (F-statistic):          1.13e-191\n",
       "Time:                        16:37:45   Log-Likelihood:                 517.87\n",
       "No. Observations:                 510   AIC:                            -1006.\n",
       "Df Residuals:                     495   BIC:                            -942.2\n",
       "Df Model:                          14                                         \n",
       "Covariance Type:            nonrobust                                         \n",
       "=============================================================================================\n",
       "                                coef    std err          t      P>|t|      [0.025      0.975]\n",
       "---------------------------------------------------------------------------------------------\n",
       "const                         0.1989      0.028      7.181      0.000       0.144       0.253\n",
       "holiday                      -0.0190      0.021     -0.892      0.373      -0.061       0.023\n",
       "workingday                    0.0837      0.010      8.672      0.000       0.065       0.103\n",
       "temp                          0.5278      0.033     15.897      0.000       0.463       0.593\n",
       "humidity                     -0.1595      0.037     -4.268      0.000      -0.233      -0.086\n",
       "windspeed                    -0.1806      0.025     -7.110      0.000      -0.231      -0.131\n",
       "month_Jul                    -0.0549      0.018     -3.035      0.003      -0.090      -0.019\n",
       "month_Sep                     0.0818      0.016      4.956      0.000       0.049       0.114\n",
       "season_spring                -0.0554      0.021     -2.694      0.007      -0.096      -0.015\n",
       "season_summer                 0.0526      0.015      3.553      0.000       0.024       0.082\n",
       "season_winter                 0.1003      0.017      5.890      0.000       0.067       0.134\n",
       "weather_light rain & snow    -0.2463      0.026     -9.449      0.000      -0.298      -0.195\n",
       "weather_mist & cloudy        -0.0578      0.010     -5.559      0.000      -0.078      -0.037\n",
       "day_Saturday                  0.0937      0.012      8.045      0.000       0.071       0.117\n",
       "day_Sunday                    0.0405      0.012      3.304      0.001       0.016       0.065\n",
       "year_2019                     0.2297      0.008     28.660      0.000       0.214       0.245\n",
       "==============================================================================\n",
       "Omnibus:                       64.879   Durbin-Watson:                   2.065\n",
       "Prob(Omnibus):                  0.000   Jarque-Bera (JB):              158.454\n",
       "Skew:                          -0.661   Prob(JB):                     3.91e-35\n",
       "Kurtosis:                       5.390   Cond. No.                     1.18e+16\n",
       "==============================================================================\n",
       "\n",
       "Warnings:\n",
       "[1] Standard Errors assume that the covariance matrix of the errors is correctly specified.\n",
       "[2] The smallest eigenvalue is 1.08e-29. This might indicate that there are\n",
       "strong multicollinearity problems or that the design matrix is singular.\n",
       "\"\"\""
      ]
     },
     "execution_count": 57,
     "metadata": {},
     "output_type": "execute_result"
    }
   ],
   "source": [
    "#Looking at the summary of our linear model\n",
    "lm.summary()"
   ]
  },
  {
   "cell_type": "markdown",
   "metadata": {},
   "source": [
    "In the above model , according to the pvalues , all the variables are significant. Now we will have a look at the VIF of the variables to find if any multicollinearity exists betweeen any variable."
   ]
  },
  {
   "cell_type": "markdown",
   "metadata": {},
   "source": [
    "**VIF (Variable Inflation Factor) Calculation**"
   ]
  },
  {
   "cell_type": "code",
   "execution_count": 58,
   "metadata": {},
   "outputs": [
    {
     "data": {
      "text/html": [
       "<div>\n",
       "<style>\n",
       "    .dataframe thead tr:only-child th {\n",
       "        text-align: right;\n",
       "    }\n",
       "\n",
       "    .dataframe thead th {\n",
       "        text-align: left;\n",
       "    }\n",
       "\n",
       "    .dataframe tbody tr th {\n",
       "        vertical-align: top;\n",
       "    }\n",
       "</style>\n",
       "<table border=\"1\" class=\"dataframe\">\n",
       "  <thead>\n",
       "    <tr style=\"text-align: right;\">\n",
       "      <th></th>\n",
       "      <th>Features</th>\n",
       "      <th>VIF</th>\n",
       "    </tr>\n",
       "  </thead>\n",
       "  <tbody>\n",
       "    <tr>\n",
       "      <th>1</th>\n",
       "      <td>holiday</td>\n",
       "      <td>inf</td>\n",
       "    </tr>\n",
       "    <tr>\n",
       "      <th>2</th>\n",
       "      <td>workingday</td>\n",
       "      <td>inf</td>\n",
       "    </tr>\n",
       "    <tr>\n",
       "      <th>13</th>\n",
       "      <td>day_Saturday</td>\n",
       "      <td>inf</td>\n",
       "    </tr>\n",
       "    <tr>\n",
       "      <th>14</th>\n",
       "      <td>day_Sunday</td>\n",
       "      <td>inf</td>\n",
       "    </tr>\n",
       "    <tr>\n",
       "      <th>8</th>\n",
       "      <td>season_spring</td>\n",
       "      <td>5.020000</td>\n",
       "    </tr>\n",
       "    <tr>\n",
       "      <th>3</th>\n",
       "      <td>temp</td>\n",
       "      <td>3.620000</td>\n",
       "    </tr>\n",
       "    <tr>\n",
       "      <th>10</th>\n",
       "      <td>season_winter</td>\n",
       "      <td>3.490000</td>\n",
       "    </tr>\n",
       "    <tr>\n",
       "      <th>9</th>\n",
       "      <td>season_summer</td>\n",
       "      <td>2.610000</td>\n",
       "    </tr>\n",
       "    <tr>\n",
       "      <th>4</th>\n",
       "      <td>humidity</td>\n",
       "      <td>1.910000</td>\n",
       "    </tr>\n",
       "    <tr>\n",
       "      <th>12</th>\n",
       "      <td>weather_mist &amp; cloudy</td>\n",
       "      <td>1.570000</td>\n",
       "    </tr>\n",
       "    <tr>\n",
       "      <th>6</th>\n",
       "      <td>month_Jul</td>\n",
       "      <td>1.490000</td>\n",
       "    </tr>\n",
       "    <tr>\n",
       "      <th>7</th>\n",
       "      <td>month_Sep</td>\n",
       "      <td>1.300000</td>\n",
       "    </tr>\n",
       "    <tr>\n",
       "      <th>11</th>\n",
       "      <td>weather_light rain &amp; snow</td>\n",
       "      <td>1.250000</td>\n",
       "    </tr>\n",
       "    <tr>\n",
       "      <th>5</th>\n",
       "      <td>windspeed</td>\n",
       "      <td>1.200000</td>\n",
       "    </tr>\n",
       "    <tr>\n",
       "      <th>15</th>\n",
       "      <td>year_2019</td>\n",
       "      <td>1.030000</td>\n",
       "    </tr>\n",
       "    <tr>\n",
       "      <th>0</th>\n",
       "      <td>const</td>\n",
       "      <td>0.000000</td>\n",
       "    </tr>\n",
       "  </tbody>\n",
       "</table>\n",
       "</div>"
      ],
      "text/plain": [
       "                     Features       VIF\n",
       "1                     holiday       inf\n",
       "2                  workingday       inf\n",
       "13               day_Saturday       inf\n",
       "14                 day_Sunday       inf\n",
       "8               season_spring  5.020000\n",
       "3                        temp  3.620000\n",
       "10              season_winter  3.490000\n",
       "9               season_summer  2.610000\n",
       "4                    humidity  1.910000\n",
       "12      weather_mist & cloudy  1.570000\n",
       "6                   month_Jul  1.490000\n",
       "7                   month_Sep  1.300000\n",
       "11  weather_light rain & snow  1.250000\n",
       "5                   windspeed  1.200000\n",
       "15                  year_2019  1.030000\n",
       "0                       const  0.000000"
      ]
     },
     "execution_count": 58,
     "metadata": {},
     "output_type": "execute_result"
    }
   ],
   "source": [
    "# Calculate the VIFs for the new model\n",
    "from statsmodels.stats.outliers_influence import variance_inflation_factor\n",
    "\n",
    "vif = pd.DataFrame()\n",
    "X = X_train_rfe\n",
    "vif['Features'] = X.columns\n",
    "vif['VIF'] = [variance_inflation_factor(X.values, i) for i in range(X.shape[1])]\n",
    "vif['VIF'] = round(vif['VIF'], 2)\n",
    "vif = vif.sort_values(by = \"VIF\", ascending = False)\n",
    "vif"
   ]
  },
  {
   "cell_type": "markdown",
   "metadata": {},
   "source": [
    "We see that the VIF value for the 'const' is very high , so we will drop the const."
   ]
  },
  {
   "cell_type": "code",
   "execution_count": 59,
   "metadata": {
    "collapsed": true
   },
   "outputs": [],
   "source": [
    "# Dropping the const variable\n",
    "X_train_new = X_train_rfe.drop([\"const\"], axis = 1)"
   ]
  },
  {
   "cell_type": "markdown",
   "metadata": {},
   "source": [
    "Rebuilding the model without const"
   ]
  },
  {
   "cell_type": "markdown",
   "metadata": {},
   "source": [
    "Model 2"
   ]
  },
  {
   "cell_type": "code",
   "execution_count": 60,
   "metadata": {},
   "outputs": [
    {
     "data": {
      "text/html": [
       "<table class=\"simpletable\">\n",
       "<caption>OLS Regression Results</caption>\n",
       "<tr>\n",
       "  <th>Dep. Variable:</th>          <td>count</td>      <th>  R-squared:         </th> <td>   0.847</td> \n",
       "</tr>\n",
       "<tr>\n",
       "  <th>Model:</th>                   <td>OLS</td>       <th>  Adj. R-squared:    </th> <td>   0.843</td> \n",
       "</tr>\n",
       "<tr>\n",
       "  <th>Method:</th>             <td>Least Squares</td>  <th>  F-statistic:       </th> <td>   196.3</td> \n",
       "</tr>\n",
       "<tr>\n",
       "  <th>Date:</th>             <td>Sun, 07 Mar 2021</td> <th>  Prob (F-statistic):</th> <td>1.13e-191</td>\n",
       "</tr>\n",
       "<tr>\n",
       "  <th>Time:</th>                 <td>16:37:45</td>     <th>  Log-Likelihood:    </th> <td>  517.87</td> \n",
       "</tr>\n",
       "<tr>\n",
       "  <th>No. Observations:</th>      <td>   510</td>      <th>  AIC:               </th> <td>  -1006.</td> \n",
       "</tr>\n",
       "<tr>\n",
       "  <th>Df Residuals:</th>          <td>   495</td>      <th>  BIC:               </th> <td>  -942.2</td> \n",
       "</tr>\n",
       "<tr>\n",
       "  <th>Df Model:</th>              <td>    14</td>      <th>                     </th>     <td> </td>    \n",
       "</tr>\n",
       "<tr>\n",
       "  <th>Covariance Type:</th>      <td>nonrobust</td>    <th>                     </th>     <td> </td>    \n",
       "</tr>\n",
       "</table>\n",
       "<table class=\"simpletable\">\n",
       "<tr>\n",
       "              <td></td>                 <th>coef</th>     <th>std err</th>      <th>t</th>      <th>P>|t|</th>  <th>[0.025</th>    <th>0.975]</th>  \n",
       "</tr>\n",
       "<tr>\n",
       "  <th>const</th>                     <td>    0.1989</td> <td>    0.028</td> <td>    7.181</td> <td> 0.000</td> <td>    0.144</td> <td>    0.253</td>\n",
       "</tr>\n",
       "<tr>\n",
       "  <th>holiday</th>                   <td>   -0.0190</td> <td>    0.021</td> <td>   -0.892</td> <td> 0.373</td> <td>   -0.061</td> <td>    0.023</td>\n",
       "</tr>\n",
       "<tr>\n",
       "  <th>workingday</th>                <td>    0.0837</td> <td>    0.010</td> <td>    8.672</td> <td> 0.000</td> <td>    0.065</td> <td>    0.103</td>\n",
       "</tr>\n",
       "<tr>\n",
       "  <th>temp</th>                      <td>    0.5278</td> <td>    0.033</td> <td>   15.897</td> <td> 0.000</td> <td>    0.463</td> <td>    0.593</td>\n",
       "</tr>\n",
       "<tr>\n",
       "  <th>humidity</th>                  <td>   -0.1595</td> <td>    0.037</td> <td>   -4.268</td> <td> 0.000</td> <td>   -0.233</td> <td>   -0.086</td>\n",
       "</tr>\n",
       "<tr>\n",
       "  <th>windspeed</th>                 <td>   -0.1806</td> <td>    0.025</td> <td>   -7.110</td> <td> 0.000</td> <td>   -0.231</td> <td>   -0.131</td>\n",
       "</tr>\n",
       "<tr>\n",
       "  <th>month_Jul</th>                 <td>   -0.0549</td> <td>    0.018</td> <td>   -3.035</td> <td> 0.003</td> <td>   -0.090</td> <td>   -0.019</td>\n",
       "</tr>\n",
       "<tr>\n",
       "  <th>month_Sep</th>                 <td>    0.0818</td> <td>    0.016</td> <td>    4.956</td> <td> 0.000</td> <td>    0.049</td> <td>    0.114</td>\n",
       "</tr>\n",
       "<tr>\n",
       "  <th>season_spring</th>             <td>   -0.0554</td> <td>    0.021</td> <td>   -2.694</td> <td> 0.007</td> <td>   -0.096</td> <td>   -0.015</td>\n",
       "</tr>\n",
       "<tr>\n",
       "  <th>season_summer</th>             <td>    0.0526</td> <td>    0.015</td> <td>    3.553</td> <td> 0.000</td> <td>    0.024</td> <td>    0.082</td>\n",
       "</tr>\n",
       "<tr>\n",
       "  <th>season_winter</th>             <td>    0.1003</td> <td>    0.017</td> <td>    5.890</td> <td> 0.000</td> <td>    0.067</td> <td>    0.134</td>\n",
       "</tr>\n",
       "<tr>\n",
       "  <th>weather_light rain & snow</th> <td>   -0.2463</td> <td>    0.026</td> <td>   -9.449</td> <td> 0.000</td> <td>   -0.298</td> <td>   -0.195</td>\n",
       "</tr>\n",
       "<tr>\n",
       "  <th>weather_mist & cloudy</th>     <td>   -0.0578</td> <td>    0.010</td> <td>   -5.559</td> <td> 0.000</td> <td>   -0.078</td> <td>   -0.037</td>\n",
       "</tr>\n",
       "<tr>\n",
       "  <th>day_Saturday</th>              <td>    0.0937</td> <td>    0.012</td> <td>    8.045</td> <td> 0.000</td> <td>    0.071</td> <td>    0.117</td>\n",
       "</tr>\n",
       "<tr>\n",
       "  <th>day_Sunday</th>                <td>    0.0405</td> <td>    0.012</td> <td>    3.304</td> <td> 0.001</td> <td>    0.016</td> <td>    0.065</td>\n",
       "</tr>\n",
       "<tr>\n",
       "  <th>year_2019</th>                 <td>    0.2297</td> <td>    0.008</td> <td>   28.660</td> <td> 0.000</td> <td>    0.214</td> <td>    0.245</td>\n",
       "</tr>\n",
       "</table>\n",
       "<table class=\"simpletable\">\n",
       "<tr>\n",
       "  <th>Omnibus:</th>       <td>64.879</td> <th>  Durbin-Watson:     </th> <td>   2.065</td>\n",
       "</tr>\n",
       "<tr>\n",
       "  <th>Prob(Omnibus):</th> <td> 0.000</td> <th>  Jarque-Bera (JB):  </th> <td> 158.454</td>\n",
       "</tr>\n",
       "<tr>\n",
       "  <th>Skew:</th>          <td>-0.661</td> <th>  Prob(JB):          </th> <td>3.91e-35</td>\n",
       "</tr>\n",
       "<tr>\n",
       "  <th>Kurtosis:</th>      <td> 5.390</td> <th>  Cond. No.          </th> <td>1.18e+16</td>\n",
       "</tr>\n",
       "</table>"
      ],
      "text/plain": [
       "<class 'statsmodels.iolib.summary.Summary'>\n",
       "\"\"\"\n",
       "                            OLS Regression Results                            \n",
       "==============================================================================\n",
       "Dep. Variable:                  count   R-squared:                       0.847\n",
       "Model:                            OLS   Adj. R-squared:                  0.843\n",
       "Method:                 Least Squares   F-statistic:                     196.3\n",
       "Date:                Sun, 07 Mar 2021   Prob (F-statistic):          1.13e-191\n",
       "Time:                        16:37:45   Log-Likelihood:                 517.87\n",
       "No. Observations:                 510   AIC:                            -1006.\n",
       "Df Residuals:                     495   BIC:                            -942.2\n",
       "Df Model:                          14                                         \n",
       "Covariance Type:            nonrobust                                         \n",
       "=============================================================================================\n",
       "                                coef    std err          t      P>|t|      [0.025      0.975]\n",
       "---------------------------------------------------------------------------------------------\n",
       "const                         0.1989      0.028      7.181      0.000       0.144       0.253\n",
       "holiday                      -0.0190      0.021     -0.892      0.373      -0.061       0.023\n",
       "workingday                    0.0837      0.010      8.672      0.000       0.065       0.103\n",
       "temp                          0.5278      0.033     15.897      0.000       0.463       0.593\n",
       "humidity                     -0.1595      0.037     -4.268      0.000      -0.233      -0.086\n",
       "windspeed                    -0.1806      0.025     -7.110      0.000      -0.231      -0.131\n",
       "month_Jul                    -0.0549      0.018     -3.035      0.003      -0.090      -0.019\n",
       "month_Sep                     0.0818      0.016      4.956      0.000       0.049       0.114\n",
       "season_spring                -0.0554      0.021     -2.694      0.007      -0.096      -0.015\n",
       "season_summer                 0.0526      0.015      3.553      0.000       0.024       0.082\n",
       "season_winter                 0.1003      0.017      5.890      0.000       0.067       0.134\n",
       "weather_light rain & snow    -0.2463      0.026     -9.449      0.000      -0.298      -0.195\n",
       "weather_mist & cloudy        -0.0578      0.010     -5.559      0.000      -0.078      -0.037\n",
       "day_Saturday                  0.0937      0.012      8.045      0.000       0.071       0.117\n",
       "day_Sunday                    0.0405      0.012      3.304      0.001       0.016       0.065\n",
       "year_2019                     0.2297      0.008     28.660      0.000       0.214       0.245\n",
       "==============================================================================\n",
       "Omnibus:                       64.879   Durbin-Watson:                   2.065\n",
       "Prob(Omnibus):                  0.000   Jarque-Bera (JB):              158.454\n",
       "Skew:                          -0.661   Prob(JB):                     3.91e-35\n",
       "Kurtosis:                       5.390   Cond. No.                     1.18e+16\n",
       "==============================================================================\n",
       "\n",
       "Warnings:\n",
       "[1] Standard Errors assume that the covariance matrix of the errors is correctly specified.\n",
       "[2] The smallest eigenvalue is 1.08e-29. This might indicate that there are\n",
       "strong multicollinearity problems or that the design matrix is singular.\n",
       "\"\"\""
      ]
     },
     "execution_count": 60,
     "metadata": {},
     "output_type": "execute_result"
    }
   ],
   "source": [
    "# Adding a constant variable \n",
    "import statsmodels.api as sm  \n",
    "X_train_lm = sm.add_constant(X_train_new)\n",
    "\n",
    "#Running the linear model\n",
    "lm = sm.OLS(y_train,X_train_lm).fit()\n",
    "\n",
    "##Looking at the summary of our linear model\n",
    "lm.summary()"
   ]
  },
  {
   "cell_type": "markdown",
   "metadata": {},
   "source": [
    "In the above model , according to the pvalues , all the variables are significant. Now we will have a look at the VIF of the variables to find if any multicollinearity exists betweeen any variable."
   ]
  },
  {
   "cell_type": "markdown",
   "metadata": {},
   "source": [
    "Checking for VIFs again"
   ]
  },
  {
   "cell_type": "code",
   "execution_count": 61,
   "metadata": {},
   "outputs": [
    {
     "data": {
      "text/html": [
       "<div>\n",
       "<style>\n",
       "    .dataframe thead tr:only-child th {\n",
       "        text-align: right;\n",
       "    }\n",
       "\n",
       "    .dataframe thead th {\n",
       "        text-align: left;\n",
       "    }\n",
       "\n",
       "    .dataframe tbody tr th {\n",
       "        vertical-align: top;\n",
       "    }\n",
       "</style>\n",
       "<table border=\"1\" class=\"dataframe\">\n",
       "  <thead>\n",
       "    <tr style=\"text-align: right;\">\n",
       "      <th></th>\n",
       "      <th>Features</th>\n",
       "      <th>VIF</th>\n",
       "    </tr>\n",
       "  </thead>\n",
       "  <tbody>\n",
       "    <tr>\n",
       "      <th>1</th>\n",
       "      <td>workingday</td>\n",
       "      <td>50.69</td>\n",
       "    </tr>\n",
       "    <tr>\n",
       "      <th>12</th>\n",
       "      <td>day_Saturday</td>\n",
       "      <td>12.20</td>\n",
       "    </tr>\n",
       "    <tr>\n",
       "      <th>13</th>\n",
       "      <td>day_Sunday</td>\n",
       "      <td>11.79</td>\n",
       "    </tr>\n",
       "    <tr>\n",
       "      <th>7</th>\n",
       "      <td>season_spring</td>\n",
       "      <td>5.02</td>\n",
       "    </tr>\n",
       "    <tr>\n",
       "      <th>2</th>\n",
       "      <td>temp</td>\n",
       "      <td>3.62</td>\n",
       "    </tr>\n",
       "    <tr>\n",
       "      <th>9</th>\n",
       "      <td>season_winter</td>\n",
       "      <td>3.49</td>\n",
       "    </tr>\n",
       "    <tr>\n",
       "      <th>0</th>\n",
       "      <td>holiday</td>\n",
       "      <td>2.91</td>\n",
       "    </tr>\n",
       "    <tr>\n",
       "      <th>8</th>\n",
       "      <td>season_summer</td>\n",
       "      <td>2.61</td>\n",
       "    </tr>\n",
       "    <tr>\n",
       "      <th>3</th>\n",
       "      <td>humidity</td>\n",
       "      <td>1.91</td>\n",
       "    </tr>\n",
       "    <tr>\n",
       "      <th>11</th>\n",
       "      <td>weather_mist &amp; cloudy</td>\n",
       "      <td>1.57</td>\n",
       "    </tr>\n",
       "    <tr>\n",
       "      <th>5</th>\n",
       "      <td>month_Jul</td>\n",
       "      <td>1.49</td>\n",
       "    </tr>\n",
       "    <tr>\n",
       "      <th>6</th>\n",
       "      <td>month_Sep</td>\n",
       "      <td>1.30</td>\n",
       "    </tr>\n",
       "    <tr>\n",
       "      <th>10</th>\n",
       "      <td>weather_light rain &amp; snow</td>\n",
       "      <td>1.25</td>\n",
       "    </tr>\n",
       "    <tr>\n",
       "      <th>4</th>\n",
       "      <td>windspeed</td>\n",
       "      <td>1.20</td>\n",
       "    </tr>\n",
       "    <tr>\n",
       "      <th>14</th>\n",
       "      <td>year_2019</td>\n",
       "      <td>1.03</td>\n",
       "    </tr>\n",
       "  </tbody>\n",
       "</table>\n",
       "</div>"
      ],
      "text/plain": [
       "                     Features    VIF\n",
       "1                  workingday  50.69\n",
       "12               day_Saturday  12.20\n",
       "13                 day_Sunday  11.79\n",
       "7               season_spring   5.02\n",
       "2                        temp   3.62\n",
       "9               season_winter   3.49\n",
       "0                     holiday   2.91\n",
       "8               season_summer   2.61\n",
       "3                    humidity   1.91\n",
       "11      weather_mist & cloudy   1.57\n",
       "5                   month_Jul   1.49\n",
       "6                   month_Sep   1.30\n",
       "10  weather_light rain & snow   1.25\n",
       "4                   windspeed   1.20\n",
       "14                  year_2019   1.03"
      ]
     },
     "execution_count": 61,
     "metadata": {},
     "output_type": "execute_result"
    }
   ],
   "source": [
    "# Calculate the VIFs for the new model\n",
    "from statsmodels.stats.outliers_influence import variance_inflation_factor\n",
    "\n",
    "vif = pd.DataFrame()\n",
    "X = X_train_new\n",
    "vif['Features'] = X.columns\n",
    "vif['VIF'] = [variance_inflation_factor(X.values, i) for i in range(X.shape[1])]\n",
    "vif['VIF'] = round(vif['VIF'], 2)\n",
    "vif = vif.sort_values(by = \"VIF\", ascending = False)\n",
    "vif"
   ]
  },
  {
   "cell_type": "markdown",
   "metadata": {},
   "source": [
    "We see that the VIF value for the variable 'humidity' is very high so we are going to drop `humidity` variable."
   ]
  },
  {
   "cell_type": "code",
   "execution_count": 62,
   "metadata": {
    "collapsed": true
   },
   "outputs": [],
   "source": [
    "# Dropping the 'humidity' variable\n",
    "X_train_new = X_train_new.drop([\"humidity\"], axis = 1)"
   ]
  },
  {
   "cell_type": "markdown",
   "metadata": {},
   "source": [
    "Rebuilding the model without humidity"
   ]
  },
  {
   "cell_type": "markdown",
   "metadata": {},
   "source": [
    "Model 3"
   ]
  },
  {
   "cell_type": "code",
   "execution_count": 63,
   "metadata": {},
   "outputs": [
    {
     "data": {
      "text/html": [
       "<table class=\"simpletable\">\n",
       "<caption>OLS Regression Results</caption>\n",
       "<tr>\n",
       "  <th>Dep. Variable:</th>          <td>count</td>      <th>  R-squared:         </th> <td>   0.842</td> \n",
       "</tr>\n",
       "<tr>\n",
       "  <th>Model:</th>                   <td>OLS</td>       <th>  Adj. R-squared:    </th> <td>   0.838</td> \n",
       "</tr>\n",
       "<tr>\n",
       "  <th>Method:</th>             <td>Least Squares</td>  <th>  F-statistic:       </th> <td>   203.0</td> \n",
       "</tr>\n",
       "<tr>\n",
       "  <th>Date:</th>             <td>Sun, 07 Mar 2021</td> <th>  Prob (F-statistic):</th> <td>5.73e-189</td>\n",
       "</tr>\n",
       "<tr>\n",
       "  <th>Time:</th>                 <td>16:37:46</td>     <th>  Log-Likelihood:    </th> <td>  508.65</td> \n",
       "</tr>\n",
       "<tr>\n",
       "  <th>No. Observations:</th>      <td>   510</td>      <th>  AIC:               </th> <td>  -989.3</td> \n",
       "</tr>\n",
       "<tr>\n",
       "  <th>Df Residuals:</th>          <td>   496</td>      <th>  BIC:               </th> <td>  -930.0</td> \n",
       "</tr>\n",
       "<tr>\n",
       "  <th>Df Model:</th>              <td>    13</td>      <th>                     </th>     <td> </td>    \n",
       "</tr>\n",
       "<tr>\n",
       "  <th>Covariance Type:</th>      <td>nonrobust</td>    <th>                     </th>     <td> </td>    \n",
       "</tr>\n",
       "</table>\n",
       "<table class=\"simpletable\">\n",
       "<tr>\n",
       "              <td></td>                 <th>coef</th>     <th>std err</th>      <th>t</th>      <th>P>|t|</th>  <th>[0.025</th>    <th>0.975]</th>  \n",
       "</tr>\n",
       "<tr>\n",
       "  <th>const</th>                     <td>    0.1356</td> <td>    0.024</td> <td>    5.698</td> <td> 0.000</td> <td>    0.089</td> <td>    0.182</td>\n",
       "</tr>\n",
       "<tr>\n",
       "  <th>holiday</th>                   <td>   -0.0350</td> <td>    0.021</td> <td>   -1.646</td> <td> 0.100</td> <td>   -0.077</td> <td>    0.007</td>\n",
       "</tr>\n",
       "<tr>\n",
       "  <th>workingday</th>                <td>    0.0684</td> <td>    0.009</td> <td>    7.503</td> <td> 0.000</td> <td>    0.050</td> <td>    0.086</td>\n",
       "</tr>\n",
       "<tr>\n",
       "  <th>temp</th>                      <td>    0.4920</td> <td>    0.033</td> <td>   15.056</td> <td> 0.000</td> <td>    0.428</td> <td>    0.556</td>\n",
       "</tr>\n",
       "<tr>\n",
       "  <th>windspeed</th>                 <td>   -0.1491</td> <td>    0.025</td> <td>   -6.032</td> <td> 0.000</td> <td>   -0.198</td> <td>   -0.101</td>\n",
       "</tr>\n",
       "<tr>\n",
       "  <th>month_Jul</th>                 <td>   -0.0500</td> <td>    0.018</td> <td>   -2.723</td> <td> 0.007</td> <td>   -0.086</td> <td>   -0.014</td>\n",
       "</tr>\n",
       "<tr>\n",
       "  <th>month_Sep</th>                 <td>    0.0758</td> <td>    0.017</td> <td>    4.532</td> <td> 0.000</td> <td>    0.043</td> <td>    0.109</td>\n",
       "</tr>\n",
       "<tr>\n",
       "  <th>season_spring</th>             <td>   -0.0653</td> <td>    0.021</td> <td>   -3.139</td> <td> 0.002</td> <td>   -0.106</td> <td>   -0.024</td>\n",
       "</tr>\n",
       "<tr>\n",
       "  <th>season_summer</th>             <td>    0.0465</td> <td>    0.015</td> <td>    3.101</td> <td> 0.002</td> <td>    0.017</td> <td>    0.076</td>\n",
       "</tr>\n",
       "<tr>\n",
       "  <th>season_winter</th>             <td>    0.0859</td> <td>    0.017</td> <td>    5.058</td> <td> 0.000</td> <td>    0.053</td> <td>    0.119</td>\n",
       "</tr>\n",
       "<tr>\n",
       "  <th>weather_light rain & snow</th> <td>   -0.2904</td> <td>    0.024</td> <td>  -11.931</td> <td> 0.000</td> <td>   -0.338</td> <td>   -0.243</td>\n",
       "</tr>\n",
       "<tr>\n",
       "  <th>weather_mist & cloudy</th>     <td>   -0.0835</td> <td>    0.009</td> <td>   -9.669</td> <td> 0.000</td> <td>   -0.100</td> <td>   -0.067</td>\n",
       "</tr>\n",
       "<tr>\n",
       "  <th>day_Saturday</th>              <td>    0.0801</td> <td>    0.011</td> <td>    7.031</td> <td> 0.000</td> <td>    0.058</td> <td>    0.103</td>\n",
       "</tr>\n",
       "<tr>\n",
       "  <th>day_Sunday</th>                <td>    0.0221</td> <td>    0.012</td> <td>    1.895</td> <td> 0.059</td> <td>   -0.001</td> <td>    0.045</td>\n",
       "</tr>\n",
       "<tr>\n",
       "  <th>year_2019</th>                 <td>    0.2336</td> <td>    0.008</td> <td>   28.839</td> <td> 0.000</td> <td>    0.218</td> <td>    0.250</td>\n",
       "</tr>\n",
       "</table>\n",
       "<table class=\"simpletable\">\n",
       "<tr>\n",
       "  <th>Omnibus:</th>       <td>66.977</td> <th>  Durbin-Watson:     </th> <td>   2.059</td>\n",
       "</tr>\n",
       "<tr>\n",
       "  <th>Prob(Omnibus):</th> <td> 0.000</td> <th>  Jarque-Bera (JB):  </th> <td> 163.728</td>\n",
       "</tr>\n",
       "<tr>\n",
       "  <th>Skew:</th>          <td>-0.681</td> <th>  Prob(JB):          </th> <td>2.80e-36</td>\n",
       "</tr>\n",
       "<tr>\n",
       "  <th>Kurtosis:</th>      <td> 5.419</td> <th>  Cond. No.          </th> <td>1.29e+16</td>\n",
       "</tr>\n",
       "</table>"
      ],
      "text/plain": [
       "<class 'statsmodels.iolib.summary.Summary'>\n",
       "\"\"\"\n",
       "                            OLS Regression Results                            \n",
       "==============================================================================\n",
       "Dep. Variable:                  count   R-squared:                       0.842\n",
       "Model:                            OLS   Adj. R-squared:                  0.838\n",
       "Method:                 Least Squares   F-statistic:                     203.0\n",
       "Date:                Sun, 07 Mar 2021   Prob (F-statistic):          5.73e-189\n",
       "Time:                        16:37:46   Log-Likelihood:                 508.65\n",
       "No. Observations:                 510   AIC:                            -989.3\n",
       "Df Residuals:                     496   BIC:                            -930.0\n",
       "Df Model:                          13                                         \n",
       "Covariance Type:            nonrobust                                         \n",
       "=============================================================================================\n",
       "                                coef    std err          t      P>|t|      [0.025      0.975]\n",
       "---------------------------------------------------------------------------------------------\n",
       "const                         0.1356      0.024      5.698      0.000       0.089       0.182\n",
       "holiday                      -0.0350      0.021     -1.646      0.100      -0.077       0.007\n",
       "workingday                    0.0684      0.009      7.503      0.000       0.050       0.086\n",
       "temp                          0.4920      0.033     15.056      0.000       0.428       0.556\n",
       "windspeed                    -0.1491      0.025     -6.032      0.000      -0.198      -0.101\n",
       "month_Jul                    -0.0500      0.018     -2.723      0.007      -0.086      -0.014\n",
       "month_Sep                     0.0758      0.017      4.532      0.000       0.043       0.109\n",
       "season_spring                -0.0653      0.021     -3.139      0.002      -0.106      -0.024\n",
       "season_summer                 0.0465      0.015      3.101      0.002       0.017       0.076\n",
       "season_winter                 0.0859      0.017      5.058      0.000       0.053       0.119\n",
       "weather_light rain & snow    -0.2904      0.024    -11.931      0.000      -0.338      -0.243\n",
       "weather_mist & cloudy        -0.0835      0.009     -9.669      0.000      -0.100      -0.067\n",
       "day_Saturday                  0.0801      0.011      7.031      0.000       0.058       0.103\n",
       "day_Sunday                    0.0221      0.012      1.895      0.059      -0.001       0.045\n",
       "year_2019                     0.2336      0.008     28.839      0.000       0.218       0.250\n",
       "==============================================================================\n",
       "Omnibus:                       66.977   Durbin-Watson:                   2.059\n",
       "Prob(Omnibus):                  0.000   Jarque-Bera (JB):              163.728\n",
       "Skew:                          -0.681   Prob(JB):                     2.80e-36\n",
       "Kurtosis:                       5.419   Cond. No.                     1.29e+16\n",
       "==============================================================================\n",
       "\n",
       "Warnings:\n",
       "[1] Standard Errors assume that the covariance matrix of the errors is correctly specified.\n",
       "[2] The smallest eigenvalue is 7.82e-30. This might indicate that there are\n",
       "strong multicollinearity problems or that the design matrix is singular.\n",
       "\"\"\""
      ]
     },
     "execution_count": 63,
     "metadata": {},
     "output_type": "execute_result"
    }
   ],
   "source": [
    "# Adding a constant variable \n",
    "import statsmodels.api as sm  \n",
    "X_train_lm = sm.add_constant(X_train_new)\n",
    "\n",
    "#Running the linear model\n",
    "lm = sm.OLS(y_train,X_train_lm).fit()\n",
    "\n",
    "##Looking at the summary of our linear model\n",
    "lm.summary()"
   ]
  },
  {
   "cell_type": "code",
   "execution_count": 64,
   "metadata": {},
   "outputs": [
    {
     "data": {
      "text/html": [
       "<div>\n",
       "<style>\n",
       "    .dataframe thead tr:only-child th {\n",
       "        text-align: right;\n",
       "    }\n",
       "\n",
       "    .dataframe thead th {\n",
       "        text-align: left;\n",
       "    }\n",
       "\n",
       "    .dataframe tbody tr th {\n",
       "        vertical-align: top;\n",
       "    }\n",
       "</style>\n",
       "<table border=\"1\" class=\"dataframe\">\n",
       "  <thead>\n",
       "    <tr style=\"text-align: right;\">\n",
       "      <th></th>\n",
       "      <th>Features</th>\n",
       "      <th>VIF</th>\n",
       "    </tr>\n",
       "  </thead>\n",
       "  <tbody>\n",
       "    <tr>\n",
       "      <th>1</th>\n",
       "      <td>workingday</td>\n",
       "      <td>35.88</td>\n",
       "    </tr>\n",
       "    <tr>\n",
       "      <th>11</th>\n",
       "      <td>day_Saturday</td>\n",
       "      <td>8.96</td>\n",
       "    </tr>\n",
       "    <tr>\n",
       "      <th>12</th>\n",
       "      <td>day_Sunday</td>\n",
       "      <td>8.41</td>\n",
       "    </tr>\n",
       "    <tr>\n",
       "      <th>6</th>\n",
       "      <td>season_spring</td>\n",
       "      <td>4.96</td>\n",
       "    </tr>\n",
       "    <tr>\n",
       "      <th>2</th>\n",
       "      <td>temp</td>\n",
       "      <td>3.38</td>\n",
       "    </tr>\n",
       "    <tr>\n",
       "      <th>8</th>\n",
       "      <td>season_winter</td>\n",
       "      <td>3.36</td>\n",
       "    </tr>\n",
       "    <tr>\n",
       "      <th>7</th>\n",
       "      <td>season_summer</td>\n",
       "      <td>2.59</td>\n",
       "    </tr>\n",
       "    <tr>\n",
       "      <th>0</th>\n",
       "      <td>holiday</td>\n",
       "      <td>2.34</td>\n",
       "    </tr>\n",
       "    <tr>\n",
       "      <th>4</th>\n",
       "      <td>month_Jul</td>\n",
       "      <td>1.48</td>\n",
       "    </tr>\n",
       "    <tr>\n",
       "      <th>5</th>\n",
       "      <td>month_Sep</td>\n",
       "      <td>1.29</td>\n",
       "    </tr>\n",
       "    <tr>\n",
       "      <th>3</th>\n",
       "      <td>windspeed</td>\n",
       "      <td>1.10</td>\n",
       "    </tr>\n",
       "    <tr>\n",
       "      <th>9</th>\n",
       "      <td>weather_light rain &amp; snow</td>\n",
       "      <td>1.05</td>\n",
       "    </tr>\n",
       "    <tr>\n",
       "      <th>10</th>\n",
       "      <td>weather_mist &amp; cloudy</td>\n",
       "      <td>1.05</td>\n",
       "    </tr>\n",
       "    <tr>\n",
       "      <th>13</th>\n",
       "      <td>year_2019</td>\n",
       "      <td>1.02</td>\n",
       "    </tr>\n",
       "  </tbody>\n",
       "</table>\n",
       "</div>"
      ],
      "text/plain": [
       "                     Features    VIF\n",
       "1                  workingday  35.88\n",
       "11               day_Saturday   8.96\n",
       "12                 day_Sunday   8.41\n",
       "6               season_spring   4.96\n",
       "2                        temp   3.38\n",
       "8               season_winter   3.36\n",
       "7               season_summer   2.59\n",
       "0                     holiday   2.34\n",
       "4                   month_Jul   1.48\n",
       "5                   month_Sep   1.29\n",
       "3                   windspeed   1.10\n",
       "9   weather_light rain & snow   1.05\n",
       "10      weather_mist & cloudy   1.05\n",
       "13                  year_2019   1.02"
      ]
     },
     "execution_count": 64,
     "metadata": {},
     "output_type": "execute_result"
    }
   ],
   "source": [
    "# Calculate the VIFs for the new model\n",
    "from statsmodels.stats.outliers_influence import variance_inflation_factor\n",
    "\n",
    "vif = pd.DataFrame()\n",
    "X = X_train_new\n",
    "vif['Features'] = X.columns\n",
    "vif['VIF'] = [variance_inflation_factor(X.values, i) for i in range(X.shape[1])]\n",
    "vif['VIF'] = round(vif['VIF'], 2)\n",
    "vif = vif.sort_values(by = \"VIF\", ascending = False)\n",
    "vif"
   ]
  },
  {
   "cell_type": "markdown",
   "metadata": {},
   "source": [
    "In the above model, the variable 'workingday' is having high vif value , therefore we drop workingday."
   ]
  },
  {
   "cell_type": "code",
   "execution_count": 65,
   "metadata": {
    "collapsed": true
   },
   "outputs": [],
   "source": [
    "# Dropping the 'workingday' variable\n",
    "X_train_new = X_train_new.drop([\"workingday\"], axis = 1)"
   ]
  },
  {
   "cell_type": "markdown",
   "metadata": {},
   "source": [
    "Rebuilding the model without workingday"
   ]
  },
  {
   "cell_type": "markdown",
   "metadata": {},
   "source": [
    "Model 4"
   ]
  },
  {
   "cell_type": "code",
   "execution_count": 66,
   "metadata": {},
   "outputs": [
    {
     "data": {
      "text/html": [
       "<table class=\"simpletable\">\n",
       "<caption>OLS Regression Results</caption>\n",
       "<tr>\n",
       "  <th>Dep. Variable:</th>          <td>count</td>      <th>  R-squared:         </th> <td>   0.842</td> \n",
       "</tr>\n",
       "<tr>\n",
       "  <th>Model:</th>                   <td>OLS</td>       <th>  Adj. R-squared:    </th> <td>   0.838</td> \n",
       "</tr>\n",
       "<tr>\n",
       "  <th>Method:</th>             <td>Least Squares</td>  <th>  F-statistic:       </th> <td>   203.0</td> \n",
       "</tr>\n",
       "<tr>\n",
       "  <th>Date:</th>             <td>Sun, 07 Mar 2021</td> <th>  Prob (F-statistic):</th> <td>5.73e-189</td>\n",
       "</tr>\n",
       "<tr>\n",
       "  <th>Time:</th>                 <td>16:37:46</td>     <th>  Log-Likelihood:    </th> <td>  508.65</td> \n",
       "</tr>\n",
       "<tr>\n",
       "  <th>No. Observations:</th>      <td>   510</td>      <th>  AIC:               </th> <td>  -989.3</td> \n",
       "</tr>\n",
       "<tr>\n",
       "  <th>Df Residuals:</th>          <td>   496</td>      <th>  BIC:               </th> <td>  -930.0</td> \n",
       "</tr>\n",
       "<tr>\n",
       "  <th>Df Model:</th>              <td>    13</td>      <th>                     </th>     <td> </td>    \n",
       "</tr>\n",
       "<tr>\n",
       "  <th>Covariance Type:</th>      <td>nonrobust</td>    <th>                     </th>     <td> </td>    \n",
       "</tr>\n",
       "</table>\n",
       "<table class=\"simpletable\">\n",
       "<tr>\n",
       "              <td></td>                 <th>coef</th>     <th>std err</th>      <th>t</th>      <th>P>|t|</th>  <th>[0.025</th>    <th>0.975]</th>  \n",
       "</tr>\n",
       "<tr>\n",
       "  <th>const</th>                     <td>    0.2039</td> <td>    0.029</td> <td>    6.987</td> <td> 0.000</td> <td>    0.147</td> <td>    0.261</td>\n",
       "</tr>\n",
       "<tr>\n",
       "  <th>holiday</th>                   <td>   -0.1034</td> <td>    0.026</td> <td>   -4.008</td> <td> 0.000</td> <td>   -0.154</td> <td>   -0.053</td>\n",
       "</tr>\n",
       "<tr>\n",
       "  <th>temp</th>                      <td>    0.4920</td> <td>    0.033</td> <td>   15.056</td> <td> 0.000</td> <td>    0.428</td> <td>    0.556</td>\n",
       "</tr>\n",
       "<tr>\n",
       "  <th>windspeed</th>                 <td>   -0.1491</td> <td>    0.025</td> <td>   -6.032</td> <td> 0.000</td> <td>   -0.198</td> <td>   -0.101</td>\n",
       "</tr>\n",
       "<tr>\n",
       "  <th>month_Jul</th>                 <td>   -0.0500</td> <td>    0.018</td> <td>   -2.723</td> <td> 0.007</td> <td>   -0.086</td> <td>   -0.014</td>\n",
       "</tr>\n",
       "<tr>\n",
       "  <th>month_Sep</th>                 <td>    0.0758</td> <td>    0.017</td> <td>    4.532</td> <td> 0.000</td> <td>    0.043</td> <td>    0.109</td>\n",
       "</tr>\n",
       "<tr>\n",
       "  <th>season_spring</th>             <td>   -0.0653</td> <td>    0.021</td> <td>   -3.139</td> <td> 0.002</td> <td>   -0.106</td> <td>   -0.024</td>\n",
       "</tr>\n",
       "<tr>\n",
       "  <th>season_summer</th>             <td>    0.0465</td> <td>    0.015</td> <td>    3.101</td> <td> 0.002</td> <td>    0.017</td> <td>    0.076</td>\n",
       "</tr>\n",
       "<tr>\n",
       "  <th>season_winter</th>             <td>    0.0859</td> <td>    0.017</td> <td>    5.058</td> <td> 0.000</td> <td>    0.053</td> <td>    0.119</td>\n",
       "</tr>\n",
       "<tr>\n",
       "  <th>weather_light rain & snow</th> <td>   -0.2904</td> <td>    0.024</td> <td>  -11.931</td> <td> 0.000</td> <td>   -0.338</td> <td>   -0.243</td>\n",
       "</tr>\n",
       "<tr>\n",
       "  <th>weather_mist & cloudy</th>     <td>   -0.0835</td> <td>    0.009</td> <td>   -9.669</td> <td> 0.000</td> <td>   -0.100</td> <td>   -0.067</td>\n",
       "</tr>\n",
       "<tr>\n",
       "  <th>day_Saturday</th>              <td>    0.0117</td> <td>    0.011</td> <td>    1.037</td> <td> 0.300</td> <td>   -0.011</td> <td>    0.034</td>\n",
       "</tr>\n",
       "<tr>\n",
       "  <th>day_Sunday</th>                <td>   -0.0463</td> <td>    0.012</td> <td>   -3.947</td> <td> 0.000</td> <td>   -0.069</td> <td>   -0.023</td>\n",
       "</tr>\n",
       "<tr>\n",
       "  <th>year_2019</th>                 <td>    0.2336</td> <td>    0.008</td> <td>   28.839</td> <td> 0.000</td> <td>    0.218</td> <td>    0.250</td>\n",
       "</tr>\n",
       "</table>\n",
       "<table class=\"simpletable\">\n",
       "<tr>\n",
       "  <th>Omnibus:</th>       <td>66.977</td> <th>  Durbin-Watson:     </th> <td>   2.059</td>\n",
       "</tr>\n",
       "<tr>\n",
       "  <th>Prob(Omnibus):</th> <td> 0.000</td> <th>  Jarque-Bera (JB):  </th> <td> 163.728</td>\n",
       "</tr>\n",
       "<tr>\n",
       "  <th>Skew:</th>          <td>-0.681</td> <th>  Prob(JB):          </th> <td>2.80e-36</td>\n",
       "</tr>\n",
       "<tr>\n",
       "  <th>Kurtosis:</th>      <td> 5.419</td> <th>  Cond. No.          </th> <td>    17.5</td>\n",
       "</tr>\n",
       "</table>"
      ],
      "text/plain": [
       "<class 'statsmodels.iolib.summary.Summary'>\n",
       "\"\"\"\n",
       "                            OLS Regression Results                            \n",
       "==============================================================================\n",
       "Dep. Variable:                  count   R-squared:                       0.842\n",
       "Model:                            OLS   Adj. R-squared:                  0.838\n",
       "Method:                 Least Squares   F-statistic:                     203.0\n",
       "Date:                Sun, 07 Mar 2021   Prob (F-statistic):          5.73e-189\n",
       "Time:                        16:37:46   Log-Likelihood:                 508.65\n",
       "No. Observations:                 510   AIC:                            -989.3\n",
       "Df Residuals:                     496   BIC:                            -930.0\n",
       "Df Model:                          13                                         \n",
       "Covariance Type:            nonrobust                                         \n",
       "=============================================================================================\n",
       "                                coef    std err          t      P>|t|      [0.025      0.975]\n",
       "---------------------------------------------------------------------------------------------\n",
       "const                         0.2039      0.029      6.987      0.000       0.147       0.261\n",
       "holiday                      -0.1034      0.026     -4.008      0.000      -0.154      -0.053\n",
       "temp                          0.4920      0.033     15.056      0.000       0.428       0.556\n",
       "windspeed                    -0.1491      0.025     -6.032      0.000      -0.198      -0.101\n",
       "month_Jul                    -0.0500      0.018     -2.723      0.007      -0.086      -0.014\n",
       "month_Sep                     0.0758      0.017      4.532      0.000       0.043       0.109\n",
       "season_spring                -0.0653      0.021     -3.139      0.002      -0.106      -0.024\n",
       "season_summer                 0.0465      0.015      3.101      0.002       0.017       0.076\n",
       "season_winter                 0.0859      0.017      5.058      0.000       0.053       0.119\n",
       "weather_light rain & snow    -0.2904      0.024    -11.931      0.000      -0.338      -0.243\n",
       "weather_mist & cloudy        -0.0835      0.009     -9.669      0.000      -0.100      -0.067\n",
       "day_Saturday                  0.0117      0.011      1.037      0.300      -0.011       0.034\n",
       "day_Sunday                   -0.0463      0.012     -3.947      0.000      -0.069      -0.023\n",
       "year_2019                     0.2336      0.008     28.839      0.000       0.218       0.250\n",
       "==============================================================================\n",
       "Omnibus:                       66.977   Durbin-Watson:                   2.059\n",
       "Prob(Omnibus):                  0.000   Jarque-Bera (JB):              163.728\n",
       "Skew:                          -0.681   Prob(JB):                     2.80e-36\n",
       "Kurtosis:                       5.419   Cond. No.                         17.5\n",
       "==============================================================================\n",
       "\n",
       "Warnings:\n",
       "[1] Standard Errors assume that the covariance matrix of the errors is correctly specified.\n",
       "\"\"\""
      ]
     },
     "execution_count": 66,
     "metadata": {},
     "output_type": "execute_result"
    }
   ],
   "source": [
    "# Adding a constant variable \n",
    "import statsmodels.api as sm  \n",
    "X_train_lm = sm.add_constant(X_train_new)\n",
    "\n",
    "#Running the linear model\n",
    "lm = sm.OLS(y_train,X_train_lm).fit()\n",
    "\n",
    "##Looking at the summary of our linear model\n",
    "lm.summary()"
   ]
  },
  {
   "cell_type": "code",
   "execution_count": 67,
   "metadata": {
    "collapsed": true
   },
   "outputs": [],
   "source": [
    "# Dropping the 'day_Saturday' variable\n",
    "X_train_new = X_train_new.drop([\"day_Saturday\"], axis = 1)"
   ]
  },
  {
   "cell_type": "markdown",
   "metadata": {},
   "source": [
    "Model 5 "
   ]
  },
  {
   "cell_type": "code",
   "execution_count": 68,
   "metadata": {},
   "outputs": [
    {
     "data": {
      "text/html": [
       "<table class=\"simpletable\">\n",
       "<caption>OLS Regression Results</caption>\n",
       "<tr>\n",
       "  <th>Dep. Variable:</th>          <td>count</td>      <th>  R-squared:         </th> <td>   0.841</td> \n",
       "</tr>\n",
       "<tr>\n",
       "  <th>Model:</th>                   <td>OLS</td>       <th>  Adj. R-squared:    </th> <td>   0.838</td> \n",
       "</tr>\n",
       "<tr>\n",
       "  <th>Method:</th>             <td>Least Squares</td>  <th>  F-statistic:       </th> <td>   219.8</td> \n",
       "</tr>\n",
       "<tr>\n",
       "  <th>Date:</th>             <td>Sun, 07 Mar 2021</td> <th>  Prob (F-statistic):</th> <td>6.45e-190</td>\n",
       "</tr>\n",
       "<tr>\n",
       "  <th>Time:</th>                 <td>16:37:47</td>     <th>  Log-Likelihood:    </th> <td>  508.10</td> \n",
       "</tr>\n",
       "<tr>\n",
       "  <th>No. Observations:</th>      <td>   510</td>      <th>  AIC:               </th> <td>  -990.2</td> \n",
       "</tr>\n",
       "<tr>\n",
       "  <th>Df Residuals:</th>          <td>   497</td>      <th>  BIC:               </th> <td>  -935.1</td> \n",
       "</tr>\n",
       "<tr>\n",
       "  <th>Df Model:</th>              <td>    12</td>      <th>                     </th>     <td> </td>    \n",
       "</tr>\n",
       "<tr>\n",
       "  <th>Covariance Type:</th>      <td>nonrobust</td>    <th>                     </th>     <td> </td>    \n",
       "</tr>\n",
       "</table>\n",
       "<table class=\"simpletable\">\n",
       "<tr>\n",
       "              <td></td>                 <th>coef</th>     <th>std err</th>      <th>t</th>      <th>P>|t|</th>  <th>[0.025</th>    <th>0.975]</th>  \n",
       "</tr>\n",
       "<tr>\n",
       "  <th>const</th>                     <td>    0.2063</td> <td>    0.029</td> <td>    7.088</td> <td> 0.000</td> <td>    0.149</td> <td>    0.263</td>\n",
       "</tr>\n",
       "<tr>\n",
       "  <th>holiday</th>                   <td>   -0.1057</td> <td>    0.026</td> <td>   -4.114</td> <td> 0.000</td> <td>   -0.156</td> <td>   -0.055</td>\n",
       "</tr>\n",
       "<tr>\n",
       "  <th>temp</th>                      <td>    0.4912</td> <td>    0.033</td> <td>   15.034</td> <td> 0.000</td> <td>    0.427</td> <td>    0.555</td>\n",
       "</tr>\n",
       "<tr>\n",
       "  <th>windspeed</th>                 <td>   -0.1479</td> <td>    0.025</td> <td>   -5.989</td> <td> 0.000</td> <td>   -0.196</td> <td>   -0.099</td>\n",
       "</tr>\n",
       "<tr>\n",
       "  <th>month_Jul</th>                 <td>   -0.0496</td> <td>    0.018</td> <td>   -2.701</td> <td> 0.007</td> <td>   -0.086</td> <td>   -0.014</td>\n",
       "</tr>\n",
       "<tr>\n",
       "  <th>month_Sep</th>                 <td>    0.0759</td> <td>    0.017</td> <td>    4.536</td> <td> 0.000</td> <td>    0.043</td> <td>    0.109</td>\n",
       "</tr>\n",
       "<tr>\n",
       "  <th>season_spring</th>             <td>   -0.0653</td> <td>    0.021</td> <td>   -3.140</td> <td> 0.002</td> <td>   -0.106</td> <td>   -0.024</td>\n",
       "</tr>\n",
       "<tr>\n",
       "  <th>season_summer</th>             <td>    0.0464</td> <td>    0.015</td> <td>    3.092</td> <td> 0.002</td> <td>    0.017</td> <td>    0.076</td>\n",
       "</tr>\n",
       "<tr>\n",
       "  <th>season_winter</th>             <td>    0.0861</td> <td>    0.017</td> <td>    5.070</td> <td> 0.000</td> <td>    0.053</td> <td>    0.119</td>\n",
       "</tr>\n",
       "<tr>\n",
       "  <th>weather_light rain & snow</th> <td>   -0.2904</td> <td>    0.024</td> <td>  -11.928</td> <td> 0.000</td> <td>   -0.338</td> <td>   -0.243</td>\n",
       "</tr>\n",
       "<tr>\n",
       "  <th>weather_mist & cloudy</th>     <td>   -0.0835</td> <td>    0.009</td> <td>   -9.670</td> <td> 0.000</td> <td>   -0.101</td> <td>   -0.067</td>\n",
       "</tr>\n",
       "<tr>\n",
       "  <th>day_Sunday</th>                <td>   -0.0485</td> <td>    0.012</td> <td>   -4.207</td> <td> 0.000</td> <td>   -0.071</td> <td>   -0.026</td>\n",
       "</tr>\n",
       "<tr>\n",
       "  <th>year_2019</th>                 <td>    0.2334</td> <td>    0.008</td> <td>   28.819</td> <td> 0.000</td> <td>    0.217</td> <td>    0.249</td>\n",
       "</tr>\n",
       "</table>\n",
       "<table class=\"simpletable\">\n",
       "<tr>\n",
       "  <th>Omnibus:</th>       <td>63.147</td> <th>  Durbin-Watson:     </th> <td>   2.059</td>\n",
       "</tr>\n",
       "<tr>\n",
       "  <th>Prob(Omnibus):</th> <td> 0.000</td> <th>  Jarque-Bera (JB):  </th> <td> 159.837</td>\n",
       "</tr>\n",
       "<tr>\n",
       "  <th>Skew:</th>          <td>-0.632</td> <th>  Prob(JB):          </th> <td>1.96e-35</td>\n",
       "</tr>\n",
       "<tr>\n",
       "  <th>Kurtosis:</th>      <td> 5.434</td> <th>  Cond. No.          </th> <td>    17.4</td>\n",
       "</tr>\n",
       "</table>"
      ],
      "text/plain": [
       "<class 'statsmodels.iolib.summary.Summary'>\n",
       "\"\"\"\n",
       "                            OLS Regression Results                            \n",
       "==============================================================================\n",
       "Dep. Variable:                  count   R-squared:                       0.841\n",
       "Model:                            OLS   Adj. R-squared:                  0.838\n",
       "Method:                 Least Squares   F-statistic:                     219.8\n",
       "Date:                Sun, 07 Mar 2021   Prob (F-statistic):          6.45e-190\n",
       "Time:                        16:37:47   Log-Likelihood:                 508.10\n",
       "No. Observations:                 510   AIC:                            -990.2\n",
       "Df Residuals:                     497   BIC:                            -935.1\n",
       "Df Model:                          12                                         \n",
       "Covariance Type:            nonrobust                                         \n",
       "=============================================================================================\n",
       "                                coef    std err          t      P>|t|      [0.025      0.975]\n",
       "---------------------------------------------------------------------------------------------\n",
       "const                         0.2063      0.029      7.088      0.000       0.149       0.263\n",
       "holiday                      -0.1057      0.026     -4.114      0.000      -0.156      -0.055\n",
       "temp                          0.4912      0.033     15.034      0.000       0.427       0.555\n",
       "windspeed                    -0.1479      0.025     -5.989      0.000      -0.196      -0.099\n",
       "month_Jul                    -0.0496      0.018     -2.701      0.007      -0.086      -0.014\n",
       "month_Sep                     0.0759      0.017      4.536      0.000       0.043       0.109\n",
       "season_spring                -0.0653      0.021     -3.140      0.002      -0.106      -0.024\n",
       "season_summer                 0.0464      0.015      3.092      0.002       0.017       0.076\n",
       "season_winter                 0.0861      0.017      5.070      0.000       0.053       0.119\n",
       "weather_light rain & snow    -0.2904      0.024    -11.928      0.000      -0.338      -0.243\n",
       "weather_mist & cloudy        -0.0835      0.009     -9.670      0.000      -0.101      -0.067\n",
       "day_Sunday                   -0.0485      0.012     -4.207      0.000      -0.071      -0.026\n",
       "year_2019                     0.2334      0.008     28.819      0.000       0.217       0.249\n",
       "==============================================================================\n",
       "Omnibus:                       63.147   Durbin-Watson:                   2.059\n",
       "Prob(Omnibus):                  0.000   Jarque-Bera (JB):              159.837\n",
       "Skew:                          -0.632   Prob(JB):                     1.96e-35\n",
       "Kurtosis:                       5.434   Cond. No.                         17.4\n",
       "==============================================================================\n",
       "\n",
       "Warnings:\n",
       "[1] Standard Errors assume that the covariance matrix of the errors is correctly specified.\n",
       "\"\"\""
      ]
     },
     "execution_count": 68,
     "metadata": {},
     "output_type": "execute_result"
    }
   ],
   "source": [
    "# Adding a constant variable \n",
    "import statsmodels.api as sm  \n",
    "X_train_lm = sm.add_constant(X_train_new)\n",
    "\n",
    "#Running the linear model\n",
    "lm = sm.OLS(y_train,X_train_lm).fit()\n",
    "\n",
    "##Looking at the summary of our linear model\n",
    "lm.summary()"
   ]
  },
  {
   "cell_type": "code",
   "execution_count": 69,
   "metadata": {},
   "outputs": [
    {
     "data": {
      "text/html": [
       "<div>\n",
       "<style>\n",
       "    .dataframe thead tr:only-child th {\n",
       "        text-align: right;\n",
       "    }\n",
       "\n",
       "    .dataframe thead th {\n",
       "        text-align: left;\n",
       "    }\n",
       "\n",
       "    .dataframe tbody tr th {\n",
       "        vertical-align: top;\n",
       "    }\n",
       "</style>\n",
       "<table border=\"1\" class=\"dataframe\">\n",
       "  <thead>\n",
       "    <tr style=\"text-align: right;\">\n",
       "      <th></th>\n",
       "      <th>Features</th>\n",
       "      <th>VIF</th>\n",
       "    </tr>\n",
       "  </thead>\n",
       "  <tbody>\n",
       "    <tr>\n",
       "      <th>1</th>\n",
       "      <td>temp</td>\n",
       "      <td>5.14</td>\n",
       "    </tr>\n",
       "    <tr>\n",
       "      <th>2</th>\n",
       "      <td>windspeed</td>\n",
       "      <td>4.60</td>\n",
       "    </tr>\n",
       "    <tr>\n",
       "      <th>6</th>\n",
       "      <td>season_summer</td>\n",
       "      <td>2.22</td>\n",
       "    </tr>\n",
       "    <tr>\n",
       "      <th>5</th>\n",
       "      <td>season_spring</td>\n",
       "      <td>2.11</td>\n",
       "    </tr>\n",
       "    <tr>\n",
       "      <th>11</th>\n",
       "      <td>year_2019</td>\n",
       "      <td>2.07</td>\n",
       "    </tr>\n",
       "    <tr>\n",
       "      <th>7</th>\n",
       "      <td>season_winter</td>\n",
       "      <td>1.82</td>\n",
       "    </tr>\n",
       "    <tr>\n",
       "      <th>3</th>\n",
       "      <td>month_Jul</td>\n",
       "      <td>1.59</td>\n",
       "    </tr>\n",
       "    <tr>\n",
       "      <th>9</th>\n",
       "      <td>weather_mist &amp; cloudy</td>\n",
       "      <td>1.55</td>\n",
       "    </tr>\n",
       "    <tr>\n",
       "      <th>4</th>\n",
       "      <td>month_Sep</td>\n",
       "      <td>1.34</td>\n",
       "    </tr>\n",
       "    <tr>\n",
       "      <th>10</th>\n",
       "      <td>day_Sunday</td>\n",
       "      <td>1.18</td>\n",
       "    </tr>\n",
       "    <tr>\n",
       "      <th>8</th>\n",
       "      <td>weather_light rain &amp; snow</td>\n",
       "      <td>1.08</td>\n",
       "    </tr>\n",
       "    <tr>\n",
       "      <th>0</th>\n",
       "      <td>holiday</td>\n",
       "      <td>1.05</td>\n",
       "    </tr>\n",
       "  </tbody>\n",
       "</table>\n",
       "</div>"
      ],
      "text/plain": [
       "                     Features   VIF\n",
       "1                        temp  5.14\n",
       "2                   windspeed  4.60\n",
       "6               season_summer  2.22\n",
       "5               season_spring  2.11\n",
       "11                  year_2019  2.07\n",
       "7               season_winter  1.82\n",
       "3                   month_Jul  1.59\n",
       "9       weather_mist & cloudy  1.55\n",
       "4                   month_Sep  1.34\n",
       "10                 day_Sunday  1.18\n",
       "8   weather_light rain & snow  1.08\n",
       "0                     holiday  1.05"
      ]
     },
     "execution_count": 69,
     "metadata": {},
     "output_type": "execute_result"
    }
   ],
   "source": [
    "# Calculate the VIFs for the new model\n",
    "from statsmodels.stats.outliers_influence import variance_inflation_factor\n",
    "\n",
    "vif = pd.DataFrame()\n",
    "X = X_train_new\n",
    "vif['Features'] = X.columns\n",
    "vif['VIF'] = [variance_inflation_factor(X.values, i) for i in range(X.shape[1])]\n",
    "vif['VIF'] = round(vif['VIF'], 2)\n",
    "vif = vif.sort_values(by = \"VIF\", ascending = False)\n",
    "vif"
   ]
  },
  {
   "cell_type": "code",
   "execution_count": 70,
   "metadata": {},
   "outputs": [
    {
     "ename": "ValueError",
     "evalue": "labels ['month_Jan'] not contained in axis",
     "output_type": "error",
     "traceback": [
      "\u001b[1;31m---------------------------------------------------------------------------\u001b[0m",
      "\u001b[1;31mValueError\u001b[0m                                Traceback (most recent call last)",
      "\u001b[1;32m<ipython-input-70-5c123893ca70>\u001b[0m in \u001b[0;36m<module>\u001b[1;34m()\u001b[0m\n\u001b[0;32m      1\u001b[0m \u001b[1;31m# Dropping the 'month_Jan' variable\u001b[0m\u001b[1;33m\u001b[0m\u001b[1;33m\u001b[0m\u001b[0m\n\u001b[1;32m----> 2\u001b[1;33m \u001b[0mX_train_new\u001b[0m \u001b[1;33m=\u001b[0m \u001b[0mX_train_new\u001b[0m\u001b[1;33m.\u001b[0m\u001b[0mdrop\u001b[0m\u001b[1;33m(\u001b[0m\u001b[1;33m[\u001b[0m\u001b[1;34m\"month_Jan\"\u001b[0m\u001b[1;33m]\u001b[0m\u001b[1;33m,\u001b[0m \u001b[0maxis\u001b[0m \u001b[1;33m=\u001b[0m \u001b[1;36m1\u001b[0m\u001b[1;33m)\u001b[0m\u001b[1;33m\u001b[0m\u001b[0m\n\u001b[0m",
      "\u001b[1;32mC:\\ProgramData\\Anaconda3\\lib\\site-packages\\pandas\\core\\generic.py\u001b[0m in \u001b[0;36mdrop\u001b[1;34m(self, labels, axis, level, inplace, errors)\u001b[0m\n\u001b[0;32m   2048\u001b[0m                 \u001b[0mnew_axis\u001b[0m \u001b[1;33m=\u001b[0m \u001b[0maxis\u001b[0m\u001b[1;33m.\u001b[0m\u001b[0mdrop\u001b[0m\u001b[1;33m(\u001b[0m\u001b[0mlabels\u001b[0m\u001b[1;33m,\u001b[0m \u001b[0mlevel\u001b[0m\u001b[1;33m=\u001b[0m\u001b[0mlevel\u001b[0m\u001b[1;33m,\u001b[0m \u001b[0merrors\u001b[0m\u001b[1;33m=\u001b[0m\u001b[0merrors\u001b[0m\u001b[1;33m)\u001b[0m\u001b[1;33m\u001b[0m\u001b[0m\n\u001b[0;32m   2049\u001b[0m             \u001b[1;32melse\u001b[0m\u001b[1;33m:\u001b[0m\u001b[1;33m\u001b[0m\u001b[0m\n\u001b[1;32m-> 2050\u001b[1;33m                 \u001b[0mnew_axis\u001b[0m \u001b[1;33m=\u001b[0m \u001b[0maxis\u001b[0m\u001b[1;33m.\u001b[0m\u001b[0mdrop\u001b[0m\u001b[1;33m(\u001b[0m\u001b[0mlabels\u001b[0m\u001b[1;33m,\u001b[0m \u001b[0merrors\u001b[0m\u001b[1;33m=\u001b[0m\u001b[0merrors\u001b[0m\u001b[1;33m)\u001b[0m\u001b[1;33m\u001b[0m\u001b[0m\n\u001b[0m\u001b[0;32m   2051\u001b[0m             \u001b[0mdropped\u001b[0m \u001b[1;33m=\u001b[0m \u001b[0mself\u001b[0m\u001b[1;33m.\u001b[0m\u001b[0mreindex\u001b[0m\u001b[1;33m(\u001b[0m\u001b[1;33m**\u001b[0m\u001b[1;33m{\u001b[0m\u001b[0maxis_name\u001b[0m\u001b[1;33m:\u001b[0m \u001b[0mnew_axis\u001b[0m\u001b[1;33m}\u001b[0m\u001b[1;33m)\u001b[0m\u001b[1;33m\u001b[0m\u001b[0m\n\u001b[0;32m   2052\u001b[0m             \u001b[1;32mtry\u001b[0m\u001b[1;33m:\u001b[0m\u001b[1;33m\u001b[0m\u001b[0m\n",
      "\u001b[1;32mC:\\ProgramData\\Anaconda3\\lib\\site-packages\\pandas\\core\\indexes\\base.py\u001b[0m in \u001b[0;36mdrop\u001b[1;34m(self, labels, errors)\u001b[0m\n\u001b[0;32m   3573\u001b[0m             \u001b[1;32mif\u001b[0m \u001b[0merrors\u001b[0m \u001b[1;33m!=\u001b[0m \u001b[1;34m'ignore'\u001b[0m\u001b[1;33m:\u001b[0m\u001b[1;33m\u001b[0m\u001b[0m\n\u001b[0;32m   3574\u001b[0m                 raise ValueError('labels %s not contained in axis' %\n\u001b[1;32m-> 3575\u001b[1;33m                                  labels[mask])\n\u001b[0m\u001b[0;32m   3576\u001b[0m             \u001b[0mindexer\u001b[0m \u001b[1;33m=\u001b[0m \u001b[0mindexer\u001b[0m\u001b[1;33m[\u001b[0m\u001b[1;33m~\u001b[0m\u001b[0mmask\u001b[0m\u001b[1;33m]\u001b[0m\u001b[1;33m\u001b[0m\u001b[0m\n\u001b[0;32m   3577\u001b[0m         \u001b[1;32mreturn\u001b[0m \u001b[0mself\u001b[0m\u001b[1;33m.\u001b[0m\u001b[0mdelete\u001b[0m\u001b[1;33m(\u001b[0m\u001b[0mindexer\u001b[0m\u001b[1;33m)\u001b[0m\u001b[1;33m\u001b[0m\u001b[0m\n",
      "\u001b[1;31mValueError\u001b[0m: labels ['month_Jan'] not contained in axis"
     ]
    }
   ],
   "source": [
    "# Dropping the 'month_Jan' variable\n",
    "X_train_new = X_train_new.drop([\"month_Jan\"], axis = 1)"
   ]
  },
  {
   "cell_type": "markdown",
   "metadata": {},
   "source": [
    "Model 6"
   ]
  },
  {
   "cell_type": "code",
   "execution_count": null,
   "metadata": {
    "collapsed": true
   },
   "outputs": [],
   "source": [
    "# Adding a constant variable \n",
    "import statsmodels.api as sm  \n",
    "X_train_lm = sm.add_constant(X_train_new)\n",
    "\n",
    "#Running the linear model\n",
    "lm = sm.OLS(y_train,X_train_lm).fit()\n",
    "\n",
    "##Looking at the summary of our linear model\n",
    "lm.summary()"
   ]
  },
  {
   "cell_type": "code",
   "execution_count": null,
   "metadata": {
    "collapsed": true
   },
   "outputs": [],
   "source": [
    "# Calculate the VIFs for the new model\n",
    "from statsmodels.stats.outliers_influence import variance_inflation_factor\n",
    "\n",
    "vif = pd.DataFrame()\n",
    "X = X_train_new\n",
    "vif['Features'] = X.columns\n",
    "vif['VIF'] = [variance_inflation_factor(X.values, i) for i in range(X.shape[1])]\n",
    "vif['VIF'] = round(vif['VIF'], 2)\n",
    "vif = vif.sort_values(by = \"VIF\", ascending = False)\n",
    "vif"
   ]
  },
  {
   "cell_type": "code",
   "execution_count": null,
   "metadata": {
    "collapsed": true
   },
   "outputs": [],
   "source": [
    "# Dropping the 'month_Sep' variable\n",
    "X_train_new = X_train_new.drop([\"month_Sep\"], axis = 1)"
   ]
  },
  {
   "cell_type": "markdown",
   "metadata": {},
   "source": [
    "Model 7"
   ]
  },
  {
   "cell_type": "code",
   "execution_count": null,
   "metadata": {
    "collapsed": true
   },
   "outputs": [],
   "source": [
    "# Adding a constant variable \n",
    "import statsmodels.api as sm  \n",
    "X_train_lm = sm.add_constant(X_train_new)\n",
    "\n",
    "#Running the linear model\n",
    "lm = sm.OLS(y_train,X_train_lm).fit()\n",
    "\n",
    "##Looking at the summary of our linear model\n",
    "lm.summary()"
   ]
  },
  {
   "cell_type": "code",
   "execution_count": null,
   "metadata": {
    "collapsed": true
   },
   "outputs": [],
   "source": [
    "# Calculate the VIFs for the new model\n",
    "from statsmodels.stats.outliers_influence import variance_inflation_factor\n",
    "\n",
    "vif = pd.DataFrame()\n",
    "X = X_train_new\n",
    "vif['Features'] = X.columns\n",
    "vif['VIF'] = [variance_inflation_factor(X.values, i) for i in range(X.shape[1])]\n",
    "vif['VIF'] = round(vif['VIF'], 2)\n",
    "vif = vif.sort_values(by = \"VIF\", ascending = False)\n",
    "vif"
   ]
  },
  {
   "cell_type": "code",
   "execution_count": null,
   "metadata": {
    "collapsed": true
   },
   "outputs": [],
   "source": [
    "# Dropping the 'season_summer' variable\n",
    "X_train_new = X_train_new.drop([\"season_summer\"], axis = 1)"
   ]
  },
  {
   "cell_type": "markdown",
   "metadata": {},
   "source": [
    "Model 8"
   ]
  },
  {
   "cell_type": "code",
   "execution_count": null,
   "metadata": {
    "collapsed": true
   },
   "outputs": [],
   "source": [
    "# Adding a constant variable \n",
    "import statsmodels.api as sm  \n",
    "X_train_lm = sm.add_constant(X_train_new)\n",
    "\n",
    "#Running the linear model\n",
    "lm = sm.OLS(y_train,X_train_lm).fit()\n",
    "\n",
    "##Looking at the summary of our linear model\n",
    "lm.summary()"
   ]
  },
  {
   "cell_type": "code",
   "execution_count": null,
   "metadata": {
    "collapsed": true
   },
   "outputs": [],
   "source": [
    "# Calculate the VIFs for the new model\n",
    "from statsmodels.stats.outliers_influence import variance_inflation_factor\n",
    "\n",
    "vif = pd.DataFrame()\n",
    "X = X_train_new\n",
    "vif['Features'] = X.columns\n",
    "vif['VIF'] = [variance_inflation_factor(X.values, i) for i in range(X.shape[1])]\n",
    "vif['VIF'] = round(vif['VIF'], 2)\n",
    "vif = vif.sort_values(by = \"VIF\", ascending = False)\n",
    "vif"
   ]
  },
  {
   "cell_type": "markdown",
   "metadata": {},
   "source": [
    "#### From the above model ,we see that the Pvalues of all the 9 variables are very low(approx equal to 0) and VIF values are also less than 5 , which is acceptable.\n",
    "\n",
    "##### We will now see the F-Statistic value ."
   ]
  },
  {
   "cell_type": "markdown",
   "metadata": {},
   "source": [
    "### F-Statistics\n",
    "\n",
    "`F-Statistics is used for testing the overall significance of the Model.`\n",
    "\n",
    "High value for the F-Statistics means the model is more significant and vice-versa.\n",
    "\n",
    "* `F-statistic: 268.3\n",
    "* `Prob (F-statistic):  4.56e-185\n",
    "\n",
    "\n",
    "#### The F-Statistics value of 268.3 (greater than 1) and the Prob(F-statistic) of '~0.000'(very low) states that the overall model is significant.\n",
    "\n",
    "#### So we can conclude it as our final model with 9 variables ."
   ]
  },
  {
   "cell_type": "markdown",
   "metadata": {},
   "source": [
    "#### Model 8 is our final model with :\n",
    "#### * `R-squared for training set` : <font color= blue>       0.828 ( 82.8 %)</font>\n",
    "#### * `Adj R-squared for training set`: <font color= blue> 0.825 ( 82.5 %)</font>"
   ]
  },
  {
   "cell_type": "markdown",
   "metadata": {},
   "source": [
    "**R-squared = 82.8 which means that 82.8 % of the variance for the target variable ie., '`count`'  is explained by the predictor variables , and hence we say that it is a good model.**"
   ]
  },
  {
   "cell_type": "markdown",
   "metadata": {},
   "source": [
    "**From the coefficients that we get for the variables, our `linear regression equation` becomes:**\n",
    "\n",
    "**Count** =  0.2505 + 0.4693 X *`temp`* - 0.1482 X *`windspeed`* + 0.2335 X *`year_2019`* - 0.0845 X *`month_Jul`*  -              0.1122 X *`season_spring`* + 0.0464 X *`season_winter`* - 0.2810 X *`weather_light rain & snow`* - 0.0794 X            *`weather_mist & cloudy`* - 0.0926 X *`holiday`* "
   ]
  },
  {
   "cell_type": "markdown",
   "metadata": {},
   "source": [
    "## Residual Analysis of the training set\n",
    "\n",
    "Now we will try to check one of the major assumptions of the linear regression ie., checking whether the error terms are normally distributed by plotting a histogram of the error terms and see what it looks like."
   ]
  },
  {
   "cell_type": "code",
   "execution_count": null,
   "metadata": {
    "collapsed": true
   },
   "outputs": [],
   "source": [
    "y_train_count = lm.predict(X_train_lm)"
   ]
  },
  {
   "cell_type": "code",
   "execution_count": null,
   "metadata": {
    "collapsed": true
   },
   "outputs": [],
   "source": [
    "# Plotting the histogram of the error terms\n",
    "fig = plt.figure()\n",
    "sns.distplot((y_train - y_train_count), bins = 20)\n",
    "fig.suptitle('Error Terms', fontsize = 20)                   \n",
    "plt.xlabel('Errors', fontsize = 18)      "
   ]
  },
  {
   "cell_type": "markdown",
   "metadata": {},
   "source": [
    "**Since the errors terms are normally distributed with mean=0, thus our assumption is satisfied in our model.**"
   ]
  },
  {
   "cell_type": "markdown",
   "metadata": {},
   "source": [
    "## Making Predictions"
   ]
  },
  {
   "cell_type": "markdown",
   "metadata": {},
   "source": [
    "### Applying the scaling on the test set also"
   ]
  },
  {
   "cell_type": "code",
   "execution_count": null,
   "metadata": {
    "collapsed": true
   },
   "outputs": [],
   "source": [
    "# Applying Scaling on the continuous columns : 'windspeed' , 'temp' , 'humidity'\n",
    "vars = ['windspeed' , 'temp' , 'humidity','count']\n",
    "\n",
    "bikes_test[vars] = scaler.transform(bikes_test[vars])"
   ]
  },
  {
   "cell_type": "markdown",
   "metadata": {},
   "source": [
    "### Dividing into X_test and y_test"
   ]
  },
  {
   "cell_type": "code",
   "execution_count": null,
   "metadata": {
    "collapsed": true
   },
   "outputs": [],
   "source": [
    "y_test = bikes_test.pop('count')\n",
    "X_test = bikes_test"
   ]
  },
  {
   "cell_type": "code",
   "execution_count": null,
   "metadata": {
    "collapsed": true
   },
   "outputs": [],
   "source": [
    "# Using our model to make predictions.\n",
    "\n",
    "# Creating X_test_new dataframe by dropping variables from X_test\n",
    "X_test_new = X_test[X_train_new.columns]\n",
    "\n",
    "# Adding a constant variable \n",
    "X_test_new = sm.add_constant(X_test_new)"
   ]
  },
  {
   "cell_type": "code",
   "execution_count": null,
   "metadata": {
    "collapsed": true
   },
   "outputs": [],
   "source": [
    "# Making predictions\n",
    "y_pred = lm.predict(X_test_new)"
   ]
  },
  {
   "cell_type": "markdown",
   "metadata": {},
   "source": [
    "## Model Evaluation"
   ]
  },
  {
   "cell_type": "code",
   "execution_count": null,
   "metadata": {
    "collapsed": true
   },
   "outputs": [],
   "source": [
    "# Plotting y_test and y_pred to understand the spread.\n",
    "fig = plt.figure()\n",
    "plt.scatter(y_test,y_pred)\n",
    "fig.suptitle('y_test vs y_pred', fontsize=20)              # Plot heading \n",
    "plt.xlabel('y_test', fontsize=18)                          # X-label\n",
    "plt.ylabel('y_pred', fontsize=16) "
   ]
  },
  {
   "cell_type": "markdown",
   "metadata": {},
   "source": [
    "The predicted values have a linear relationship with actual values."
   ]
  },
  {
   "cell_type": "markdown",
   "metadata": {},
   "source": [
    "### Calculating R-squared value for Test set"
   ]
  },
  {
   "cell_type": "code",
   "execution_count": null,
   "metadata": {
    "collapsed": true
   },
   "outputs": [],
   "source": [
    "from sklearn.metrics import r2_score\n",
    "r2=r2_score(y_test, y_pred)\n",
    "r2"
   ]
  },
  {
   "cell_type": "markdown",
   "metadata": {},
   "source": [
    "### Calculating Adj. R-squared value for Test set"
   ]
  },
  {
   "cell_type": "code",
   "execution_count": null,
   "metadata": {
    "collapsed": true
   },
   "outputs": [],
   "source": [
    "n = X_test_new.shape[0]      # n is number of rows in X_test_new\n",
    "\n",
    "p = X_test_new.shape[1]     # p= Number of features/predictors which is number of columns in X_test_new\n",
    "\n",
    "# Calculating Adjusted R-squared value using the formula\n",
    "\n",
    "adjusted_r2 = 1-(1-r2)*(n-1)/(n-p-1)\n",
    "adjusted_r2"
   ]
  },
  {
   "cell_type": "code",
   "execution_count": null,
   "metadata": {
    "collapsed": true
   },
   "outputs": [],
   "source": [
    "# calculating the Mean Squared Error , Root Mean Squared Error and Mean Absolute error\n",
    "from sklearn import metrics\n",
    "\n",
    "print('MAE:', metrics.mean_absolute_error(y_test, y_pred))\n",
    "print('MSE:', metrics.mean_squared_error(y_test, y_pred))\n",
    "print('RMSE:', np.sqrt(metrics.mean_squared_error(y_test, y_pred)))"
   ]
  },
  {
   "cell_type": "markdown",
   "metadata": {},
   "source": [
    "### Comparison between the results on Train and Test datasets:\n",
    "\n",
    "* `R-squared Value`:<br><br>\n",
    "    * **Train set : <font color=blue>82.8% </font>** \n",
    "    * **Test set : <font color=blue>80.5% </font>**\n",
    "<br><br>\n",
    "\n",
    "* `Adj R-squared Value`:<br><br>\n",
    "     * **Train set : <font color=blue>82.5%</font>**\n",
    "     * **Test set : <font color=blue>79.6%</font>**"
   ]
  },
  {
   "cell_type": "markdown",
   "metadata": {},
   "source": [
    "* As we can see that the **difference between the R-squared value for the train and test dataset is not more than 5% , therefore we can say that this is a good model** . \n",
    "\n",
    "* As we can see that the **difference between the Adj R-squared value for the train and test dataset is not more than 5% , therefore we can say that this is a good model** . "
   ]
  },
  {
   "cell_type": "markdown",
   "metadata": {},
   "source": [
    "### Reporting the Final Model:"
   ]
  },
  {
   "cell_type": "markdown",
   "metadata": {},
   "source": [
    "\n",
    "**From the coefficients that we get for the variables, our `linear regression equation` becomes:**\n",
    "\n",
    "\n",
    "**Count** =  0.2505 + 0.4693 X *`temp`* - 0.1482 X *`windspeed`* + 0.2335 X *`year_2019`* - 0.0845 X *`month_Jul`*  -              0.1122 X *`season_spring`* + 0.0464 X *`season_winter`* - 0.2810 X *`weather_light rain & snow`* - 0.0794 X            *`weather_mist & cloudy`* - 0.0926 X *`holiday`* "
   ]
  },
  {
   "cell_type": "markdown",
   "metadata": {},
   "source": [
    "From the regression model above , we have the following variables and their coefficients which are significant in predicting the demand for shared bikes:\n",
    "\n",
    "* temp = 0.4693\n",
    "* windspeed = -0.1482 \n",
    "* year_2019 = 0.2335\n",
    "* month_Jul = -0.0845\n",
    "* season_spring = -0.1122\n",
    "* season_winter = 0.0464\n",
    "* weather_light rain or snow = -0.2810 \n",
    "* weather_mist and cloudy = -0.0794\n",
    "* holiday = -0.0926"
   ]
  },
  {
   "cell_type": "markdown",
   "metadata": {},
   "source": [
    "**The three most significant variables affecting the demand for shared bikes are :**\n",
    "* **temperature** \n",
    "* **year**\n",
    "* **season winter** \n",
    "\n",
    "as these features are having positive coefficients and an increase in them is going to result into an increase in the demand for shared bikes ."
   ]
  },
  {
   "cell_type": "markdown",
   "metadata": {},
   "source": [
    "#### Thanks for Reading !!!\n",
    "\n",
    "#### Please provide feedback in comments section . "
   ]
  },
  {
   "cell_type": "code",
   "execution_count": null,
   "metadata": {
    "collapsed": true
   },
   "outputs": [],
   "source": []
  }
 ],
 "metadata": {
  "kernelspec": {
   "display_name": "Python 3",
   "language": "python",
   "name": "python3"
  },
  "language_info": {
   "codemirror_mode": {
    "name": "ipython",
    "version": 3
   },
   "file_extension": ".py",
   "mimetype": "text/x-python",
   "name": "python",
   "nbconvert_exporter": "python",
   "pygments_lexer": "ipython3",
   "version": "3.6.1"
  }
 },
 "nbformat": 4,
 "nbformat_minor": 4
}
